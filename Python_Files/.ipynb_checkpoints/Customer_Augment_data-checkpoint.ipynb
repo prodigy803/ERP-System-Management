{
 "cells": [
  {
   "cell_type": "code",
   "execution_count": 11,
   "id": "14ea7c81-89d9-41fa-a9d2-fb48185409aa",
   "metadata": {},
   "outputs": [],
   "source": [
    "import numpy as np\n",
    "import pandas as pd\n",
    "import random\n",
    "import string"
   ]
  },
  {
   "cell_type": "code",
   "execution_count": 13,
   "id": "eaa98d3f-4c92-4a3d-a542-bd91bcb59ac7",
   "metadata": {},
   "outputs": [],
   "source": [
    "data_dir = 'dummy_data/'\n",
    "og_data_dir = '../Data Files/'\n",
    "\n",
    "LOWER_LETTERS = string.ascii_lowercase\n",
    "UPPER_LETTERS = string.ascii_uppercase\n",
    "DIGITS = string.digits"
   ]
  },
  {
   "cell_type": "markdown",
   "id": "1546654b-a019-4243-bf3a-78de2131aa43",
   "metadata": {},
   "source": [
    "## Customer"
   ]
  },
  {
   "cell_type": "code",
   "execution_count": 99,
   "id": "0bef8840-7a7c-4c5f-a181-b0ea79ec0a5d",
   "metadata": {},
   "outputs": [],
   "source": [
    "customers = pd.DataFrame(columns=['id', 'name', 'contact_name', 'title', 'postal_code', 'country', 'contact'])"
   ]
  },
  {
   "cell_type": "code",
   "execution_count": 100,
   "id": "578e1a7d-76b8-463b-b814-b6b5d743b00f",
   "metadata": {},
   "outputs": [],
   "source": [
    "dummy_customer = pd.read_excel(data_dir + \"dummy_customer_data.xlsx\")"
   ]
  },
  {
   "cell_type": "code",
   "execution_count": 101,
   "id": "5a375e8d-03ff-4c24-a15e-c6713719adea",
   "metadata": {},
   "outputs": [
    {
     "data": {
      "text/html": [
       "<div>\n",
       "<style scoped>\n",
       "    .dataframe tbody tr th:only-of-type {\n",
       "        vertical-align: middle;\n",
       "    }\n",
       "\n",
       "    .dataframe tbody tr th {\n",
       "        vertical-align: top;\n",
       "    }\n",
       "\n",
       "    .dataframe thead th {\n",
       "        text-align: right;\n",
       "    }\n",
       "</style>\n",
       "<table border=\"1\" class=\"dataframe\">\n",
       "  <thead>\n",
       "    <tr style=\"text-align: right;\">\n",
       "      <th></th>\n",
       "      <th>name</th>\n",
       "      <th>contact_name</th>\n",
       "      <th>country</th>\n",
       "    </tr>\n",
       "  </thead>\n",
       "  <tbody>\n",
       "    <tr>\n",
       "      <th>0</th>\n",
       "      <td>Ridgestone</td>\n",
       "      <td>Keelan Whiteley</td>\n",
       "      <td>Argentina</td>\n",
       "    </tr>\n",
       "    <tr>\n",
       "      <th>1</th>\n",
       "      <td>Mountaincast</td>\n",
       "      <td>Tayah Farley</td>\n",
       "      <td>Armenia</td>\n",
       "    </tr>\n",
       "    <tr>\n",
       "      <th>2</th>\n",
       "      <td>Ravengate</td>\n",
       "      <td>Akeel Cervantes</td>\n",
       "      <td>Australia</td>\n",
       "    </tr>\n",
       "    <tr>\n",
       "      <th>3</th>\n",
       "      <td>Redtales</td>\n",
       "      <td>Yasser Little</td>\n",
       "      <td>Austria</td>\n",
       "    </tr>\n",
       "    <tr>\n",
       "      <th>4</th>\n",
       "      <td>Petalwares</td>\n",
       "      <td>Simona Cook</td>\n",
       "      <td>The Bahamas</td>\n",
       "    </tr>\n",
       "  </tbody>\n",
       "</table>\n",
       "</div>"
      ],
      "text/plain": [
       "           name     contact_name      country\n",
       "0    Ridgestone  Keelan Whiteley    Argentina\n",
       "1  Mountaincast     Tayah Farley      Armenia\n",
       "2     Ravengate  Akeel Cervantes    Australia\n",
       "3      Redtales    Yasser Little      Austria\n",
       "4    Petalwares      Simona Cook  The Bahamas"
      ]
     },
     "execution_count": 101,
     "metadata": {},
     "output_type": "execute_result"
    }
   ],
   "source": [
    "dummy_customer.head()"
   ]
  },
  {
   "cell_type": "code",
   "execution_count": 102,
   "id": "d78eb0b4-e49b-431c-b89d-810db5ad8cc4",
   "metadata": {},
   "outputs": [
    {
     "data": {
      "text/plain": [
       "(490, 3)"
      ]
     },
     "execution_count": 102,
     "metadata": {},
     "output_type": "execute_result"
    }
   ],
   "source": [
    "dummy_customer.shape"
   ]
  },
  {
   "cell_type": "code",
   "execution_count": 103,
   "id": "bafd8572-2caa-43d6-8f86-da61e2d6830d",
   "metadata": {},
   "outputs": [
    {
     "name": "stdout",
     "output_type": "stream",
     "text": [
      "In name number of duplicated values: 0\n",
      "In contact_name number of duplicated values: 0\n",
      "In country number of duplicated values: 409\n"
     ]
    }
   ],
   "source": [
    "for col in dummy_customer.columns:\n",
    "    print(f\"In {col} number of duplicated values: {dummy_customer.duplicated(col).sum()}\")"
   ]
  },
  {
   "cell_type": "code",
   "execution_count": 104,
   "id": "8bd17dcb-14a9-4761-a77c-ad2f9e951fb9",
   "metadata": {},
   "outputs": [],
   "source": [
    "# Title list\n",
    "title_choice = ['Accounting Manager', 'Assistant Sales Agent', 'Marketing Assistant', 'Order Administrator', 'Owner', 'Owner/Marketing Assistant', 'Sales Agent', 'Sales Associate', 'Sales Manager', 'Sales Representative']"
   ]
  },
  {
   "cell_type": "code",
   "execution_count": 105,
   "id": "3ac2f75d-8c3f-4480-8ca5-0a805eeae05a",
   "metadata": {},
   "outputs": [],
   "source": [
    "# Country List (Without any missing values)\n",
    "country_list = dummy_customer.country[dummy_customer.country.notnull()]"
   ]
  },
  {
   "cell_type": "code",
   "execution_count": 106,
   "id": "59678a26-09a8-4c3a-979d-22417ff4634c",
   "metadata": {
    "tags": []
   },
   "outputs": [],
   "source": [
    "# Populate name and contact_name\n",
    "customers['name'] = dummy_customer.name.copy()\n",
    "customers['contact_name'] = dummy_customer.contact_name.copy()\n",
    "\n",
    "# Create random id's\n",
    "customers['id'] = [''.join(random.choice(UPPER_LETTERS) for j in range(5)) for i in range(490)]\n",
    "\n",
    "# Choose random title\n",
    "customers['title'] = [random.choice(title_choice) for i in range(customers.shape[0])]\n",
    "\n",
    "# Choose random country\n",
    "customers['country'] = [random.choice(country_list) for i in range(customers.shape[0])]"
   ]
  },
  {
   "cell_type": "code",
   "execution_count": 107,
   "id": "c3a90906-ec05-4448-91fd-413efeeb1443",
   "metadata": {},
   "outputs": [],
   "source": [
    "# Create random postal_code\n",
    "postal_list = list()\n",
    "for row in range(customers.shape[0]):\n",
    "    length = np.random.randint(5,9)\n",
    "    code = ''\n",
    "    for index in range(length):\n",
    "        random_number = np.random.randint(10)\n",
    "        if random_number < 5:\n",
    "            code += random.choice(UPPER_LETTERS)\n",
    "        else:\n",
    "            code += random.choice(DIGITS)\n",
    "    postal_list.append(code)\n",
    "\n",
    "customers['postal_code'] = postal_list"
   ]
  },
  {
   "cell_type": "code",
   "execution_count": 108,
   "id": "6d2544df-c5a2-4329-beae-c5beebbca3c0",
   "metadata": {},
   "outputs": [],
   "source": [
    "# Create contact\n",
    "customers['contact'] = [np.random.randint(1000000000, 9999999999) for i in range(customers.shape[0])]"
   ]
  },
  {
   "cell_type": "code",
   "execution_count": 109,
   "id": "dc7f1d09-392e-48ba-a2f6-bc57ef73df71",
   "metadata": {},
   "outputs": [
    {
     "data": {
      "text/html": [
       "<div>\n",
       "<style scoped>\n",
       "    .dataframe tbody tr th:only-of-type {\n",
       "        vertical-align: middle;\n",
       "    }\n",
       "\n",
       "    .dataframe tbody tr th {\n",
       "        vertical-align: top;\n",
       "    }\n",
       "\n",
       "    .dataframe thead th {\n",
       "        text-align: right;\n",
       "    }\n",
       "</style>\n",
       "<table border=\"1\" class=\"dataframe\">\n",
       "  <thead>\n",
       "    <tr style=\"text-align: right;\">\n",
       "      <th></th>\n",
       "      <th>id</th>\n",
       "      <th>name</th>\n",
       "      <th>contact_name</th>\n",
       "      <th>title</th>\n",
       "      <th>postal_code</th>\n",
       "      <th>country</th>\n",
       "      <th>contact</th>\n",
       "    </tr>\n",
       "  </thead>\n",
       "  <tbody>\n",
       "    <tr>\n",
       "      <th>0</th>\n",
       "      <td>LFIFD</td>\n",
       "      <td>Ridgestone</td>\n",
       "      <td>Keelan Whiteley</td>\n",
       "      <td>Owner</td>\n",
       "      <td>2KXF45N</td>\n",
       "      <td>Turkey</td>\n",
       "      <td>4855979087</td>\n",
       "    </tr>\n",
       "    <tr>\n",
       "      <th>1</th>\n",
       "      <td>MDQRO</td>\n",
       "      <td>Mountaincast</td>\n",
       "      <td>Tayah Farley</td>\n",
       "      <td>Sales Associate</td>\n",
       "      <td>ZK7CAAIO</td>\n",
       "      <td>Korea, North</td>\n",
       "      <td>3997597663</td>\n",
       "    </tr>\n",
       "    <tr>\n",
       "      <th>2</th>\n",
       "      <td>BBHBT</td>\n",
       "      <td>Ravengate</td>\n",
       "      <td>Akeel Cervantes</td>\n",
       "      <td>Sales Agent</td>\n",
       "      <td>9T2S0</td>\n",
       "      <td>Iran</td>\n",
       "      <td>4063470845</td>\n",
       "    </tr>\n",
       "    <tr>\n",
       "      <th>3</th>\n",
       "      <td>FOZJG</td>\n",
       "      <td>Redtales</td>\n",
       "      <td>Yasser Little</td>\n",
       "      <td>Assistant Sales Agent</td>\n",
       "      <td>LNF5ME4</td>\n",
       "      <td>Russia</td>\n",
       "      <td>6069715154</td>\n",
       "    </tr>\n",
       "    <tr>\n",
       "      <th>4</th>\n",
       "      <td>WTOMS</td>\n",
       "      <td>Petalwares</td>\n",
       "      <td>Simona Cook</td>\n",
       "      <td>Sales Manager</td>\n",
       "      <td>MC5I3Y</td>\n",
       "      <td>Netherlands</td>\n",
       "      <td>4642304938</td>\n",
       "    </tr>\n",
       "  </tbody>\n",
       "</table>\n",
       "</div>"
      ],
      "text/plain": [
       "      id          name     contact_name                  title postal_code  \\\n",
       "0  LFIFD    Ridgestone  Keelan Whiteley                  Owner     2KXF45N   \n",
       "1  MDQRO  Mountaincast     Tayah Farley        Sales Associate    ZK7CAAIO   \n",
       "2  BBHBT     Ravengate  Akeel Cervantes            Sales Agent       9T2S0   \n",
       "3  FOZJG      Redtales    Yasser Little  Assistant Sales Agent     LNF5ME4   \n",
       "4  WTOMS    Petalwares      Simona Cook          Sales Manager      MC5I3Y   \n",
       "\n",
       "        country     contact  \n",
       "0        Turkey  4855979087  \n",
       "1  Korea, North  3997597663  \n",
       "2          Iran  4063470845  \n",
       "3        Russia  6069715154  \n",
       "4   Netherlands  4642304938  "
      ]
     },
     "execution_count": 109,
     "metadata": {},
     "output_type": "execute_result"
    }
   ],
   "source": [
    "customers.head()"
   ]
  },
  {
   "cell_type": "code",
   "execution_count": 110,
   "id": "1d5b0294-0a45-46d2-9369-0e63c1315c0a",
   "metadata": {},
   "outputs": [],
   "source": [
    "# Read the original customers csv\n",
    "og_customers = pd.read_csv(og_data_dir + 'customers.csv')"
   ]
  },
  {
   "cell_type": "code",
   "execution_count": 111,
   "id": "6e193ca1-b0c0-41d3-bc39-7b109782d8b8",
   "metadata": {},
   "outputs": [],
   "source": [
    "# Concatenate dummy and original data\n",
    "new_customers = pd.concat((og_customers, customers))"
   ]
  },
  {
   "cell_type": "code",
   "execution_count": 112,
   "id": "bb5205d0-a6df-439b-b1bf-1f5327932b6e",
   "metadata": {},
   "outputs": [
    {
     "name": "stdout",
     "output_type": "stream",
     "text": [
      "In id number of duplicated values: 0\n",
      "In name number of duplicated values: 0\n",
      "In contact_name number of duplicated values: 0\n",
      "In title number of duplicated values: 569\n",
      "In postal_code number of duplicated values: 5\n",
      "In country number of duplicated values: 498\n",
      "In contact number of duplicated values: 0\n"
     ]
    }
   ],
   "source": [
    "for col in new_customers.columns:\n",
    "    print(f\"In {col} number of duplicated values: {new_customers.duplicated(col).sum()}\")"
   ]
  },
  {
   "cell_type": "code",
   "execution_count": 113,
   "id": "ef10a635-8831-4b6c-b887-436ca1336aac",
   "metadata": {},
   "outputs": [
    {
     "data": {
      "text/plain": [
       "(581, 7)"
      ]
     },
     "execution_count": 113,
     "metadata": {},
     "output_type": "execute_result"
    }
   ],
   "source": [
    "new_customers.shape"
   ]
  },
  {
   "cell_type": "code",
   "execution_count": 114,
   "id": "b1aadf98-9b9f-4ea4-a33b-6918ea80f288",
   "metadata": {},
   "outputs": [],
   "source": [
    "new_customers.to_csv(\"new_customer.csv\")"
   ]
  },
  {
   "cell_type": "code",
   "execution_count": 115,
   "id": "0803f03a-75f3-4aaf-a46a-8730b7db71c6",
   "metadata": {},
   "outputs": [
    {
     "data": {
      "text/html": [
       "<div>\n",
       "<style scoped>\n",
       "    .dataframe tbody tr th:only-of-type {\n",
       "        vertical-align: middle;\n",
       "    }\n",
       "\n",
       "    .dataframe tbody tr th {\n",
       "        vertical-align: top;\n",
       "    }\n",
       "\n",
       "    .dataframe thead th {\n",
       "        text-align: right;\n",
       "    }\n",
       "</style>\n",
       "<table border=\"1\" class=\"dataframe\">\n",
       "  <thead>\n",
       "    <tr style=\"text-align: right;\">\n",
       "      <th></th>\n",
       "      <th>id</th>\n",
       "      <th>name</th>\n",
       "      <th>contact_name</th>\n",
       "      <th>title</th>\n",
       "      <th>postal_code</th>\n",
       "      <th>country</th>\n",
       "      <th>contact</th>\n",
       "    </tr>\n",
       "  </thead>\n",
       "  <tbody>\n",
       "    <tr>\n",
       "      <th>0</th>\n",
       "      <td>ALFKI</td>\n",
       "      <td>Alfreds Futterkiste</td>\n",
       "      <td>Maria Anders</td>\n",
       "      <td>Sales Representative</td>\n",
       "      <td>12209</td>\n",
       "      <td>Germany</td>\n",
       "      <td>030-0074321</td>\n",
       "    </tr>\n",
       "    <tr>\n",
       "      <th>1</th>\n",
       "      <td>ANATR</td>\n",
       "      <td>Ana Trujillo Emparedados y helados</td>\n",
       "      <td>Ana Trujillo</td>\n",
       "      <td>Owner</td>\n",
       "      <td>5021</td>\n",
       "      <td>Mexico</td>\n",
       "      <td>(5) 555-4729</td>\n",
       "    </tr>\n",
       "    <tr>\n",
       "      <th>2</th>\n",
       "      <td>ANTON</td>\n",
       "      <td>Antonio Moreno Taquería</td>\n",
       "      <td>Antonio Moreno</td>\n",
       "      <td>Owner</td>\n",
       "      <td>5023</td>\n",
       "      <td>Mexico</td>\n",
       "      <td>(5) 555-3932</td>\n",
       "    </tr>\n",
       "    <tr>\n",
       "      <th>3</th>\n",
       "      <td>AROUT</td>\n",
       "      <td>Around the Horn</td>\n",
       "      <td>Thomas Hardy</td>\n",
       "      <td>Sales Representative</td>\n",
       "      <td>WA1 1DP</td>\n",
       "      <td>UK</td>\n",
       "      <td>(171) 555-7788</td>\n",
       "    </tr>\n",
       "    <tr>\n",
       "      <th>4</th>\n",
       "      <td>BERGS</td>\n",
       "      <td>Berglunds snabbköp</td>\n",
       "      <td>Christina Berglund</td>\n",
       "      <td>Order Administrator</td>\n",
       "      <td>S-958 22</td>\n",
       "      <td>Sweden</td>\n",
       "      <td>0921-12 34 65</td>\n",
       "    </tr>\n",
       "    <tr>\n",
       "      <th>...</th>\n",
       "      <td>...</td>\n",
       "      <td>...</td>\n",
       "      <td>...</td>\n",
       "      <td>...</td>\n",
       "      <td>...</td>\n",
       "      <td>...</td>\n",
       "      <td>...</td>\n",
       "    </tr>\n",
       "    <tr>\n",
       "      <th>485</th>\n",
       "      <td>NZIMP</td>\n",
       "      <td>Liondale</td>\n",
       "      <td>Mahad Weston</td>\n",
       "      <td>Sales Agent</td>\n",
       "      <td>VW377W5</td>\n",
       "      <td>Croatia</td>\n",
       "      <td>7664874933</td>\n",
       "    </tr>\n",
       "    <tr>\n",
       "      <th>486</th>\n",
       "      <td>MWZZX</td>\n",
       "      <td>Zunsaois</td>\n",
       "      <td>Tevin Dougherty</td>\n",
       "      <td>Owner/Marketing Assistant</td>\n",
       "      <td>6A906H</td>\n",
       "      <td>Croatia</td>\n",
       "      <td>9049944685</td>\n",
       "    </tr>\n",
       "    <tr>\n",
       "      <th>487</th>\n",
       "      <td>QIDAR</td>\n",
       "      <td>Micromedia</td>\n",
       "      <td>Kien Robbins</td>\n",
       "      <td>Assistant Sales Agent</td>\n",
       "      <td>55J0R1A</td>\n",
       "      <td>Argentina</td>\n",
       "      <td>1763282379</td>\n",
       "    </tr>\n",
       "    <tr>\n",
       "      <th>488</th>\n",
       "      <td>UNRNZ</td>\n",
       "      <td>Beewater</td>\n",
       "      <td>Ziva Barnes</td>\n",
       "      <td>Owner</td>\n",
       "      <td>028O7</td>\n",
       "      <td>Korea, South</td>\n",
       "      <td>6475923285</td>\n",
       "    </tr>\n",
       "    <tr>\n",
       "      <th>489</th>\n",
       "      <td>SVQTG</td>\n",
       "      <td>Happypoint</td>\n",
       "      <td>Tabitha Kenny</td>\n",
       "      <td>Assistant Sales Agent</td>\n",
       "      <td>32RBCGET</td>\n",
       "      <td>South Africa</td>\n",
       "      <td>8784310974</td>\n",
       "    </tr>\n",
       "  </tbody>\n",
       "</table>\n",
       "<p>581 rows × 7 columns</p>\n",
       "</div>"
      ],
      "text/plain": [
       "        id                                name        contact_name  \\\n",
       "0    ALFKI                 Alfreds Futterkiste        Maria Anders   \n",
       "1    ANATR  Ana Trujillo Emparedados y helados        Ana Trujillo   \n",
       "2    ANTON             Antonio Moreno Taquería      Antonio Moreno   \n",
       "3    AROUT                     Around the Horn        Thomas Hardy   \n",
       "4    BERGS                  Berglunds snabbköp  Christina Berglund   \n",
       "..     ...                                 ...                 ...   \n",
       "485  NZIMP                            Liondale        Mahad Weston   \n",
       "486  MWZZX                            Zunsaois     Tevin Dougherty   \n",
       "487  QIDAR                          Micromedia        Kien Robbins   \n",
       "488  UNRNZ                            Beewater         Ziva Barnes   \n",
       "489  SVQTG                          Happypoint       Tabitha Kenny   \n",
       "\n",
       "                         title postal_code       country         contact  \n",
       "0         Sales Representative       12209       Germany     030-0074321  \n",
       "1                        Owner        5021        Mexico    (5) 555-4729  \n",
       "2                        Owner        5023        Mexico    (5) 555-3932  \n",
       "3         Sales Representative     WA1 1DP            UK  (171) 555-7788  \n",
       "4          Order Administrator    S-958 22        Sweden   0921-12 34 65  \n",
       "..                         ...         ...           ...             ...  \n",
       "485                Sales Agent     VW377W5       Croatia      7664874933  \n",
       "486  Owner/Marketing Assistant      6A906H       Croatia      9049944685  \n",
       "487      Assistant Sales Agent     55J0R1A     Argentina      1763282379  \n",
       "488                      Owner       028O7  Korea, South      6475923285  \n",
       "489      Assistant Sales Agent    32RBCGET  South Africa      8784310974  \n",
       "\n",
       "[581 rows x 7 columns]"
      ]
     },
     "execution_count": 115,
     "metadata": {},
     "output_type": "execute_result"
    }
   ],
   "source": [
    "new_customers"
   ]
  },
  {
   "cell_type": "markdown",
   "id": "1033a3ed-4175-491e-a594-1e3094f809df",
   "metadata": {},
   "source": [
    "## Employees"
   ]
  },
  {
   "cell_type": "code",
   "execution_count": 116,
   "id": "b2cc952f-e082-45b0-a458-239e9688da0a",
   "metadata": {},
   "outputs": [],
   "source": [
    "employee = pd.DataFrame(columns=['id', 'last_name', 'first_name', 'title', 'birthdate', 'hire_date', 'postal_code', 'country', 'contact', 'reports_to'])"
   ]
  },
  {
   "cell_type": "code",
   "execution_count": 117,
   "id": "41003405-3623-4d67-98e9-a7d7adf87211",
   "metadata": {},
   "outputs": [],
   "source": [
    "dummy_employee = pd.read_excel(data_dir + \"dummy_employee_data.xlsx\")"
   ]
  },
  {
   "cell_type": "code",
   "execution_count": 118,
   "id": "ad143416-f407-4abc-85dd-cf01a70ee81f",
   "metadata": {},
   "outputs": [
    {
     "data": {
      "text/html": [
       "<div>\n",
       "<style scoped>\n",
       "    .dataframe tbody tr th:only-of-type {\n",
       "        vertical-align: middle;\n",
       "    }\n",
       "\n",
       "    .dataframe tbody tr th {\n",
       "        vertical-align: top;\n",
       "    }\n",
       "\n",
       "    .dataframe thead th {\n",
       "        text-align: right;\n",
       "    }\n",
       "</style>\n",
       "<table border=\"1\" class=\"dataframe\">\n",
       "  <thead>\n",
       "    <tr style=\"text-align: right;\">\n",
       "      <th></th>\n",
       "      <th>first_name</th>\n",
       "      <th>last_name</th>\n",
       "    </tr>\n",
       "  </thead>\n",
       "  <tbody>\n",
       "    <tr>\n",
       "      <th>0</th>\n",
       "      <td>Gunnar</td>\n",
       "      <td>Fitzgerald</td>\n",
       "    </tr>\n",
       "    <tr>\n",
       "      <th>1</th>\n",
       "      <td>Daisy</td>\n",
       "      <td>King</td>\n",
       "    </tr>\n",
       "    <tr>\n",
       "      <th>2</th>\n",
       "      <td>Lesly</td>\n",
       "      <td>Esparza</td>\n",
       "    </tr>\n",
       "    <tr>\n",
       "      <th>3</th>\n",
       "      <td>Shiloh</td>\n",
       "      <td>Merritt</td>\n",
       "    </tr>\n",
       "    <tr>\n",
       "      <th>4</th>\n",
       "      <td>Elian</td>\n",
       "      <td>Mcmillan</td>\n",
       "    </tr>\n",
       "  </tbody>\n",
       "</table>\n",
       "</div>"
      ],
      "text/plain": [
       "  first_name   last_name\n",
       "0     Gunnar  Fitzgerald\n",
       "1      Daisy        King\n",
       "2      Lesly     Esparza\n",
       "3     Shiloh     Merritt\n",
       "4      Elian    Mcmillan"
      ]
     },
     "execution_count": 118,
     "metadata": {},
     "output_type": "execute_result"
    }
   ],
   "source": [
    "dummy_employee.head()"
   ]
  },
  {
   "cell_type": "code",
   "execution_count": 119,
   "id": "5dc2df03-736f-4c4f-8485-f272b4d1a916",
   "metadata": {},
   "outputs": [],
   "source": [
    "# Set first and last name\n",
    "employee['first_name'] = dummy_employee.first_name\n",
    "employee['last_name'] = dummy_employee.last_name"
   ]
  },
  {
   "cell_type": "code",
   "execution_count": 120,
   "id": "d6c1e2f1-c72d-486e-bfdf-02910767a347",
   "metadata": {},
   "outputs": [
    {
     "data": {
      "text/plain": [
       "(136, 10)"
      ]
     },
     "execution_count": 120,
     "metadata": {},
     "output_type": "execute_result"
    }
   ],
   "source": [
    "employee.shape"
   ]
  },
  {
   "cell_type": "code",
   "execution_count": 121,
   "id": "0a92d3c3-b961-492e-a243-ae805ca1215d",
   "metadata": {},
   "outputs": [],
   "source": [
    "# Create random postal_code\n",
    "postal_list = list()\n",
    "for row in range(employee.shape[0]):\n",
    "    length = np.random.randint(5,7)\n",
    "    code = ''\n",
    "    for index in range(length):\n",
    "        random_number = np.random.randint(10)\n",
    "        if random_number < 3:\n",
    "            code += random.choice(UPPER_LETTERS)\n",
    "        else:\n",
    "            code += random.choice(DIGITS)\n",
    "    postal_list.append(code)\n",
    "\n",
    "employee['postal_code'] = postal_list"
   ]
  },
  {
   "cell_type": "code",
   "execution_count": 124,
   "id": "4e3656a6-ebee-4b8c-a20f-7a71eebb1eaf",
   "metadata": {},
   "outputs": [],
   "source": [
    "# Choose random country\n",
    "employee['country'] = [random.choice(country_list) for i in range(employee.shape[0])]"
   ]
  },
  {
   "cell_type": "code",
   "execution_count": 126,
   "id": "930214dd-142b-4478-a760-939e5fd70d36",
   "metadata": {},
   "outputs": [],
   "source": [
    "# Create contact\n",
    "employee['contact'] = [np.random.randint(1000000000, 9999999999) for i in range(employee.shape[0])]"
   ]
  },
  {
   "cell_type": "code",
   "execution_count": 128,
   "id": "ba4c9973-0c97-417f-a39e-52f02d3acaff",
   "metadata": {},
   "outputs": [],
   "source": [
    "# Create ID\n",
    "employee['id'] = [i+1 for i in range(employee.shape[0])]"
   ]
  },
  {
   "cell_type": "code",
   "execution_count": 153,
   "id": "2ddc445d-7a9c-4c01-b564-d78265d116d5",
   "metadata": {},
   "outputs": [],
   "source": [
    "from datetime import datetime, date, timedelta\n",
    "from dateutil.relativedelta import relativedelta"
   ]
  },
  {
   "cell_type": "code",
   "execution_count": 148,
   "id": "e6416bbd-c22b-41a3-8a8f-eb8df7ccdbe7",
   "metadata": {},
   "outputs": [],
   "source": [
    "# Create birthdate\n",
    "start_date = date(1948,1,1)\n",
    "end_date = date(1999,12,31)\n",
    "\n",
    "time_between_dates = end_date - start_date\n",
    "days_between_dates = time_between_dates.days\n",
    "\n",
    "birth_date = list()\n",
    "for i in range(employee.shape[0]):\n",
    "    random_number_of_days = random.randrange(days_between_dates)\n",
    "    birth_date.append(start_date + timedelta(days=random_number_of_days))\n",
    "\n",
    "employee['birthdate'] = birth_date"
   ]
  },
  {
   "cell_type": "code",
   "execution_count": 157,
   "id": "056933a2-21b5-472a-b9c8-749485ea152d",
   "metadata": {},
   "outputs": [],
   "source": [
    "# Create hiredate\n",
    "hire_date = list()\n",
    "for index in range(employee.shape[0]):\n",
    "    year = np.random.randint(20,30)\n",
    "    month = random.choice(range(1,12))\n",
    "    \n",
    "    if month in [1,3,5,7,8,10,12]:\n",
    "        day = random.choice(range(1,31))\n",
    "    elif month in [4,6,9,11]:\n",
    "        day = random.choice(range(1,30))\n",
    "    else:\n",
    "        day = random.choice(range(1,28))\n",
    "    \n",
    "    start = employee.birthdate.iloc[index]\n",
    "    \n",
    "    hire = start + relativedelta(years=year, months=month, days=day)\n",
    "    hire_date.append(hire)\n",
    "\n",
    "employee['hire_date'] = hire_date"
   ]
  },
  {
   "cell_type": "code",
   "execution_count": 165,
   "id": "b10c3cc1-3687-4f94-a3a9-6245b51884e7",
   "metadata": {},
   "outputs": [],
   "source": [
    "# Create title\n",
    "employee_title_dict = {\n",
    "    'Sales Representative': 100, \n",
    "    'Vice President, Sales': 1,\n",
    "    'Sales Manager': 25, \n",
    "    'Inside Sales Coordinator': 10\n",
    "}\n",
    "    \n",
    "title_list = list()\n",
    "\n",
    "for index in range(employee.shape[0]):\n",
    "    title = random.choice(list(employee_title_dict.keys()))\n",
    "    title_list.append(title)\n",
    "    \n",
    "    employee_title_dict[title] -= 1\n",
    "    if employee_title_dict[title] == 0:\n",
    "        del employee_title_dict[title]\n",
    "\n",
    "employee['title'] = title_list"
   ]
  },
  {
   "cell_type": "code",
   "execution_count": 185,
   "id": "b71c24da-2fac-4d06-858b-69cbcfd7da6f",
   "metadata": {},
   "outputs": [
    {
     "data": {
      "text/plain": [
       "7"
      ]
     },
     "execution_count": 185,
     "metadata": {},
     "output_type": "execute_result"
    }
   ],
   "source": [
    "employee[employee.title == 'Vice President, Sales']['id'].values[0]"
   ]
  },
  {
   "cell_type": "code",
   "execution_count": 202,
   "id": "46cc7958-d60f-42cc-b54d-fe5285848ef2",
   "metadata": {},
   "outputs": [],
   "source": [
    "# Create reports_to\n",
    "reports_to_list = list()\n",
    "\n",
    "# SM -> VP, ISC -> VP\n",
    "employee.reports_to = np.where([True if title in ['Sales Manager', 'Inside Sales Coordinator'] else False for title in employee.title], \n",
    "                               employee[employee.title == 'Vice President, Sales'].id.values[0],\n",
    "                               np.nan)"
   ]
  },
  {
   "cell_type": "code",
   "execution_count": 214,
   "id": "a0c383fe-5816-4a29-96ba-1d60cf135042",
   "metadata": {},
   "outputs": [],
   "source": [
    "sm_id_list = list(employee[employee.title == 'Sales Manager'].id.values) * 4\n",
    "random.shuffle(sm_id_list)\n",
    "\n",
    "# SR -> SM\n",
    "employee.loc[employee.title == 'Sales Representative', 'reports_to'] = sm_id_list"
   ]
  },
  {
   "cell_type": "code",
   "execution_count": 219,
   "id": "c72d65e6-6505-4bac-98d4-63bd83d75792",
   "metadata": {},
   "outputs": [
    {
     "data": {
      "text/plain": [
       "7.0     35\n",
       "20.0     4\n",
       "21.0     4\n",
       "47.0     4\n",
       "13.0     4\n",
       "45.0     4\n",
       "26.0     4\n",
       "27.0     4\n",
       "4.0      4\n",
       "5.0      4\n",
       "62.0     4\n",
       "46.0     4\n",
       "61.0     4\n",
       "58.0     4\n",
       "63.0     4\n",
       "31.0     4\n",
       "41.0     4\n",
       "36.0     4\n",
       "42.0     4\n",
       "3.0      4\n",
       "34.0     4\n",
       "28.0     4\n",
       "19.0     4\n",
       "65.0     4\n",
       "30.0     4\n",
       "50.0     4\n",
       "Name: reports_to, dtype: int64"
      ]
     },
     "execution_count": 219,
     "metadata": {},
     "output_type": "execute_result"
    }
   ],
   "source": [
    "employee.reports_to.value_counts()"
   ]
  },
  {
   "cell_type": "code",
   "execution_count": 218,
   "id": "6a08405b-54f9-45ec-abd3-c119dfdcf323",
   "metadata": {},
   "outputs": [
    {
     "data": {
      "text/html": [
       "<div>\n",
       "<style scoped>\n",
       "    .dataframe tbody tr th:only-of-type {\n",
       "        vertical-align: middle;\n",
       "    }\n",
       "\n",
       "    .dataframe tbody tr th {\n",
       "        vertical-align: top;\n",
       "    }\n",
       "\n",
       "    .dataframe thead th {\n",
       "        text-align: right;\n",
       "    }\n",
       "</style>\n",
       "<table border=\"1\" class=\"dataframe\">\n",
       "  <thead>\n",
       "    <tr style=\"text-align: right;\">\n",
       "      <th></th>\n",
       "      <th>id</th>\n",
       "      <th>last_name</th>\n",
       "      <th>first_name</th>\n",
       "      <th>title</th>\n",
       "      <th>birthdate</th>\n",
       "      <th>hire_date</th>\n",
       "      <th>postal_code</th>\n",
       "      <th>country</th>\n",
       "      <th>contact</th>\n",
       "      <th>reports_to</th>\n",
       "    </tr>\n",
       "  </thead>\n",
       "  <tbody>\n",
       "    <tr>\n",
       "      <th>0</th>\n",
       "      <td>1</td>\n",
       "      <td>Fitzgerald</td>\n",
       "      <td>Gunnar</td>\n",
       "      <td>Sales Representative</td>\n",
       "      <td>1956-08-04</td>\n",
       "      <td>1985-09-18</td>\n",
       "      <td>907R02</td>\n",
       "      <td>Iceland</td>\n",
       "      <td>5514625394</td>\n",
       "      <td>20.0</td>\n",
       "    </tr>\n",
       "    <tr>\n",
       "      <th>1</th>\n",
       "      <td>2</td>\n",
       "      <td>King</td>\n",
       "      <td>Daisy</td>\n",
       "      <td>Sales Representative</td>\n",
       "      <td>1992-06-26</td>\n",
       "      <td>2017-04-22</td>\n",
       "      <td>M5388A</td>\n",
       "      <td>United Arab Emirates</td>\n",
       "      <td>1622590717</td>\n",
       "      <td>63.0</td>\n",
       "    </tr>\n",
       "    <tr>\n",
       "      <th>2</th>\n",
       "      <td>3</td>\n",
       "      <td>Esparza</td>\n",
       "      <td>Lesly</td>\n",
       "      <td>Sales Manager</td>\n",
       "      <td>1954-09-23</td>\n",
       "      <td>1975-01-13</td>\n",
       "      <td>2F365L</td>\n",
       "      <td>Turkey</td>\n",
       "      <td>1758615552</td>\n",
       "      <td>7.0</td>\n",
       "    </tr>\n",
       "    <tr>\n",
       "      <th>3</th>\n",
       "      <td>4</td>\n",
       "      <td>Merritt</td>\n",
       "      <td>Shiloh</td>\n",
       "      <td>Sales Manager</td>\n",
       "      <td>1957-05-11</td>\n",
       "      <td>1984-11-01</td>\n",
       "      <td>27TM3</td>\n",
       "      <td>Argentina</td>\n",
       "      <td>2042725721</td>\n",
       "      <td>7.0</td>\n",
       "    </tr>\n",
       "    <tr>\n",
       "      <th>4</th>\n",
       "      <td>5</td>\n",
       "      <td>Mcmillan</td>\n",
       "      <td>Elian</td>\n",
       "      <td>Sales Manager</td>\n",
       "      <td>1986-12-27</td>\n",
       "      <td>2012-05-26</td>\n",
       "      <td>4586R</td>\n",
       "      <td>Germany</td>\n",
       "      <td>6513191729</td>\n",
       "      <td>7.0</td>\n",
       "    </tr>\n",
       "    <tr>\n",
       "      <th>...</th>\n",
       "      <td>...</td>\n",
       "      <td>...</td>\n",
       "      <td>...</td>\n",
       "      <td>...</td>\n",
       "      <td>...</td>\n",
       "      <td>...</td>\n",
       "      <td>...</td>\n",
       "      <td>...</td>\n",
       "      <td>...</td>\n",
       "      <td>...</td>\n",
       "    </tr>\n",
       "    <tr>\n",
       "      <th>131</th>\n",
       "      <td>132</td>\n",
       "      <td>Keith</td>\n",
       "      <td>Dax</td>\n",
       "      <td>Sales Representative</td>\n",
       "      <td>1972-04-15</td>\n",
       "      <td>1995-10-21</td>\n",
       "      <td>89A7H</td>\n",
       "      <td>Denmark</td>\n",
       "      <td>4412148230</td>\n",
       "      <td>46.0</td>\n",
       "    </tr>\n",
       "    <tr>\n",
       "      <th>132</th>\n",
       "      <td>133</td>\n",
       "      <td>Tucker</td>\n",
       "      <td>Octavio</td>\n",
       "      <td>Sales Representative</td>\n",
       "      <td>1991-07-04</td>\n",
       "      <td>2020-01-15</td>\n",
       "      <td>798AC</td>\n",
       "      <td>Canada</td>\n",
       "      <td>8008406936</td>\n",
       "      <td>27.0</td>\n",
       "    </tr>\n",
       "    <tr>\n",
       "      <th>133</th>\n",
       "      <td>134</td>\n",
       "      <td>Mcclain</td>\n",
       "      <td>Ronald</td>\n",
       "      <td>Sales Representative</td>\n",
       "      <td>1996-09-02</td>\n",
       "      <td>2024-07-30</td>\n",
       "      <td>4U76Q2</td>\n",
       "      <td>Mongolia</td>\n",
       "      <td>2132757860</td>\n",
       "      <td>3.0</td>\n",
       "    </tr>\n",
       "    <tr>\n",
       "      <th>134</th>\n",
       "      <td>135</td>\n",
       "      <td>Farley</td>\n",
       "      <td>Anup</td>\n",
       "      <td>Sales Representative</td>\n",
       "      <td>1973-04-14</td>\n",
       "      <td>2000-03-10</td>\n",
       "      <td>0LI74</td>\n",
       "      <td>Israel</td>\n",
       "      <td>3181916100</td>\n",
       "      <td>19.0</td>\n",
       "    </tr>\n",
       "    <tr>\n",
       "      <th>135</th>\n",
       "      <td>136</td>\n",
       "      <td>Pokemon</td>\n",
       "      <td>Pushkaraj</td>\n",
       "      <td>Sales Representative</td>\n",
       "      <td>1974-06-02</td>\n",
       "      <td>2000-08-26</td>\n",
       "      <td>SW152</td>\n",
       "      <td>Belgium</td>\n",
       "      <td>3470646725</td>\n",
       "      <td>26.0</td>\n",
       "    </tr>\n",
       "  </tbody>\n",
       "</table>\n",
       "<p>136 rows × 10 columns</p>\n",
       "</div>"
      ],
      "text/plain": [
       "      id   last_name first_name                 title   birthdate   hire_date  \\\n",
       "0      1  Fitzgerald     Gunnar  Sales Representative  1956-08-04  1985-09-18   \n",
       "1      2        King      Daisy  Sales Representative  1992-06-26  2017-04-22   \n",
       "2      3     Esparza      Lesly         Sales Manager  1954-09-23  1975-01-13   \n",
       "3      4     Merritt     Shiloh         Sales Manager  1957-05-11  1984-11-01   \n",
       "4      5    Mcmillan      Elian         Sales Manager  1986-12-27  2012-05-26   \n",
       "..   ...         ...        ...                   ...         ...         ...   \n",
       "131  132       Keith        Dax  Sales Representative  1972-04-15  1995-10-21   \n",
       "132  133      Tucker    Octavio  Sales Representative  1991-07-04  2020-01-15   \n",
       "133  134     Mcclain     Ronald  Sales Representative  1996-09-02  2024-07-30   \n",
       "134  135      Farley       Anup  Sales Representative  1973-04-14  2000-03-10   \n",
       "135  136     Pokemon  Pushkaraj  Sales Representative  1974-06-02  2000-08-26   \n",
       "\n",
       "    postal_code               country     contact  reports_to  \n",
       "0        907R02               Iceland  5514625394        20.0  \n",
       "1        M5388A  United Arab Emirates  1622590717        63.0  \n",
       "2        2F365L                Turkey  1758615552         7.0  \n",
       "3         27TM3             Argentina  2042725721         7.0  \n",
       "4         4586R               Germany  6513191729         7.0  \n",
       "..          ...                   ...         ...         ...  \n",
       "131       89A7H               Denmark  4412148230        46.0  \n",
       "132       798AC                Canada  8008406936        27.0  \n",
       "133      4U76Q2              Mongolia  2132757860         3.0  \n",
       "134       0LI74                Israel  3181916100        19.0  \n",
       "135       SW152               Belgium  3470646725        26.0  \n",
       "\n",
       "[136 rows x 10 columns]"
      ]
     },
     "execution_count": 218,
     "metadata": {},
     "output_type": "execute_result"
    }
   ],
   "source": [
    "employee"
   ]
  },
  {
   "cell_type": "code",
   "execution_count": 221,
   "id": "edd5b266-85ec-4f48-9b25-8549d53360ec",
   "metadata": {},
   "outputs": [],
   "source": [
    "employee.to_csv(\"../Data Files/new_data/\" + \"new_employee.csv\")"
   ]
  },
  {
   "cell_type": "markdown",
   "id": "4f45478a-8374-4949-88f4-02666fbba78c",
   "metadata": {},
   "source": [
    "## Employee Territory"
   ]
  },
  {
   "cell_type": "code",
   "execution_count": 222,
   "id": "6c6e4f3b-4baa-4955-9a34-7598fcb7aec8",
   "metadata": {},
   "outputs": [],
   "source": [
    "emp_territory = pd.DataFrame(columns=['employee_id', 'territory_id'])"
   ]
  },
  {
   "cell_type": "code",
   "execution_count": 241,
   "id": "c70f1f51-56b8-4cda-98a7-a0ff175abcb0",
   "metadata": {},
   "outputs": [],
   "source": [
    "dummy_emp_territory = pd.read_csv(\"../Data Files/new_data/\" + \"territories.csv\", encoding='latin1')"
   ]
  },
  {
   "cell_type": "code",
   "execution_count": 242,
   "id": "b071e519-097e-4e3a-817d-53745d7b79e3",
   "metadata": {},
   "outputs": [
    {
     "data": {
      "text/html": [
       "<div>\n",
       "<style scoped>\n",
       "    .dataframe tbody tr th:only-of-type {\n",
       "        vertical-align: middle;\n",
       "    }\n",
       "\n",
       "    .dataframe tbody tr th {\n",
       "        vertical-align: top;\n",
       "    }\n",
       "\n",
       "    .dataframe thead th {\n",
       "        text-align: right;\n",
       "    }\n",
       "</style>\n",
       "<table border=\"1\" class=\"dataframe\">\n",
       "  <thead>\n",
       "    <tr style=\"text-align: right;\">\n",
       "      <th></th>\n",
       "      <th>id</th>\n",
       "      <th>name</th>\n",
       "    </tr>\n",
       "  </thead>\n",
       "  <tbody>\n",
       "    <tr>\n",
       "      <th>0</th>\n",
       "      <td>94037</td>\n",
       "      <td>Mariehamn</td>\n",
       "    </tr>\n",
       "    <tr>\n",
       "      <th>1</th>\n",
       "      <td>34104</td>\n",
       "      <td>Tirana</td>\n",
       "    </tr>\n",
       "    <tr>\n",
       "      <th>2</th>\n",
       "      <td>25893</td>\n",
       "      <td>Andorra la Vella</td>\n",
       "    </tr>\n",
       "    <tr>\n",
       "      <th>3</th>\n",
       "      <td>95852</td>\n",
       "      <td>Vienna</td>\n",
       "    </tr>\n",
       "    <tr>\n",
       "      <th>4</th>\n",
       "      <td>76999</td>\n",
       "      <td>Minsk</td>\n",
       "    </tr>\n",
       "  </tbody>\n",
       "</table>\n",
       "</div>"
      ],
      "text/plain": [
       "      id              name\n",
       "0  94037         Mariehamn\n",
       "1  34104            Tirana\n",
       "2  25893  Andorra la Vella\n",
       "3  95852            Vienna\n",
       "4  76999             Minsk"
      ]
     },
     "execution_count": 242,
     "metadata": {},
     "output_type": "execute_result"
    }
   ],
   "source": [
    "dummy_emp_territory.head()"
   ]
  },
  {
   "cell_type": "code",
   "execution_count": 243,
   "id": "eb4cfe3a-c173-4a83-86dd-52c2cc19e3f4",
   "metadata": {},
   "outputs": [
    {
     "data": {
      "text/plain": [
       "(240, 2)"
      ]
     },
     "execution_count": 243,
     "metadata": {},
     "output_type": "execute_result"
    }
   ],
   "source": [
    "dummy_emp_territory.shape"
   ]
  },
  {
   "cell_type": "code",
   "execution_count": null,
   "id": "00450a31-0ff9-4cdd-b1f0-7bf25a5f421a",
   "metadata": {},
   "outputs": [],
   "source": [
    "    df = pd. DataFrame([[1, 2], [3, 4]], columns = [\"a\", \"b\"])\n",
    "    print(df)\n",
    "    to_append = [5, 6]\n",
    "    a_series = pd. Series(to_append, index = df. columns)\n",
    "    df = df. append(a_series, ignore_index=True)\n",
    "    print(df)"
   ]
  },
  {
   "cell_type": "code",
   "execution_count": 247,
   "id": "aad168be-5500-43ef-9070-621b55b17f74",
   "metadata": {
    "tags": []
   },
   "outputs": [],
   "source": [
    "# Create \n",
    "territories_id_list = list(dummy_emp_territory.id.values)\n",
    "terr_id_list = list()\n",
    "\n",
    "# Each employee gets 1 territory\n",
    "for emp_id in list(employee.id.values):\n",
    "    terr_id = random.choice(territories_id_list)\n",
    "    terr_id_list.append(terr_id)\n",
    "    territories_id_list.remove(terr_id)\n",
    "\n",
    "emp_territory['employee_id'] = list(employee.id.values)\n",
    "emp_territory['territory_id'] = terr_id_list\n",
    "\n",
    "# Randomly assign remainging territories to employees\n",
    "for terr_id in territories_id_list:\n",
    "    rand_emp_id = random.choice(list(employee.id.values))\n",
    "    series = pd.Series([rand_emp_id, terr_id], index=emp_territory.columns)\n",
    "    emp_territory = emp_territory.append(series, ignore_index=True)"
   ]
  },
  {
   "cell_type": "code",
   "execution_count": 253,
   "id": "7c146dcc-5f52-45b1-9b89-3ff1adb8d977",
   "metadata": {},
   "outputs": [],
   "source": [
    "emp_territory = emp_territory.sample(frac=1).reset_index(drop=True)\n",
    "emp_territory.to_csv(\"../Data Files/new_data/new_employee_territories.csv\", index=False)"
   ]
  },
  {
   "cell_type": "markdown",
   "id": "b40613a8-9cd3-4ca5-ac47-97e130c92c72",
   "metadata": {},
   "source": [
    "## Supplier"
   ]
  },
  {
   "cell_type": "code",
   "execution_count": 254,
   "id": "41695e5f-b884-48d2-be8b-a08e8469bcf4",
   "metadata": {},
   "outputs": [],
   "source": [
    "supplier = pd.DataFrame(columns=['id', 'company_name', 'contact_name', 'contact_title', 'postal_code', 'country', 'contact'])"
   ]
  },
  {
   "cell_type": "code",
   "execution_count": 255,
   "id": "a7ecb9a9-ce40-4530-938e-66917e28f453",
   "metadata": {},
   "outputs": [],
   "source": [
    "# Create ID\n",
    "supplier['id'] = list(range(1,61))\n",
    "\n",
    "# Create country\n",
    "supplier['country'] = [random.choice(country_list) for i in range(supplier.shape[0])]\n",
    "\n",
    "# Create contact\n",
    "supplier['contact'] = [np.random.randint(1000000000, 9999999999) for i in range(supplier.shape[0])]"
   ]
  },
  {
   "cell_type": "code",
   "execution_count": 256,
   "id": "d23a75b0-6c07-4d77-a583-01cd5896fb2b",
   "metadata": {},
   "outputs": [],
   "source": [
    "# Create random postal_code\n",
    "postal_list = list()\n",
    "for row in range(supplier.shape[0]):\n",
    "    length = np.random.randint(4,7)\n",
    "    code = ''\n",
    "    for index in range(length):\n",
    "        random_number = np.random.randint(10)\n",
    "        if random_number < 4:\n",
    "            code += random.choice(UPPER_LETTERS)\n",
    "        else:\n",
    "            code += random.choice(DIGITS)\n",
    "    postal_list.append(code)\n",
    "\n",
    "supplier['postal_code'] = postal_list"
   ]
  },
  {
   "cell_type": "code",
   "execution_count": 258,
   "id": "f623aa7f-2e5d-49bd-a088-0a7aebbe0af7",
   "metadata": {},
   "outputs": [],
   "source": [
    "supp_title_list = ['Purchasing Manager', 'Order Administrator', 'Sales Representative', 'Marketing Manager', 'Export Administrator', 'Marketing Representative',\n",
    "                   'Sales Agent', 'Sales Manager', 'International Marketing Mgr.', 'Coordinator Foreign Markets', 'Regional Account Rep.', 'Wholesale Account Agent', \n",
    "                   'Owner', 'Accounting Manager', 'Product Manager']"
   ]
  },
  {
   "cell_type": "code",
   "execution_count": 261,
   "id": "55b38dae-7674-4d13-8fe5-9e8fb5dcdc0e",
   "metadata": {},
   "outputs": [],
   "source": [
    "dummy_supplier = pd.read_excel(data_dir + \"dummy_supplier_data.xlsx\")"
   ]
  },
  {
   "cell_type": "code",
   "execution_count": 262,
   "id": "e0468af2-ecfc-4399-8338-daff8a04b4ed",
   "metadata": {},
   "outputs": [],
   "source": [
    "# Create company and contact name\n",
    "supplier['company_name'] = dummy_supplier.company_name\n",
    "supplier['contact_name'] = dummy_supplier.contact_name"
   ]
  },
  {
   "cell_type": "code",
   "execution_count": 264,
   "id": "89204f14-6522-4581-9a39-bf3787599119",
   "metadata": {},
   "outputs": [],
   "source": [
    "# Create Title\n",
    "supplier['contact_title'] = [random.choice(supp_title_list) for index in range(supplier.shape[0])]"
   ]
  },
  {
   "cell_type": "code",
   "execution_count": 265,
   "id": "5f893860-b5e1-4612-b52d-85f47c1c26a1",
   "metadata": {},
   "outputs": [
    {
     "data": {
      "text/html": [
       "<div>\n",
       "<style scoped>\n",
       "    .dataframe tbody tr th:only-of-type {\n",
       "        vertical-align: middle;\n",
       "    }\n",
       "\n",
       "    .dataframe tbody tr th {\n",
       "        vertical-align: top;\n",
       "    }\n",
       "\n",
       "    .dataframe thead th {\n",
       "        text-align: right;\n",
       "    }\n",
       "</style>\n",
       "<table border=\"1\" class=\"dataframe\">\n",
       "  <thead>\n",
       "    <tr style=\"text-align: right;\">\n",
       "      <th></th>\n",
       "      <th>id</th>\n",
       "      <th>company_name</th>\n",
       "      <th>contact_name</th>\n",
       "      <th>contact_title</th>\n",
       "      <th>postal_code</th>\n",
       "      <th>country</th>\n",
       "      <th>contact</th>\n",
       "    </tr>\n",
       "  </thead>\n",
       "  <tbody>\n",
       "    <tr>\n",
       "      <th>0</th>\n",
       "      <td>1</td>\n",
       "      <td>Exotic Liquids</td>\n",
       "      <td>Richard Dixon (Dick)</td>\n",
       "      <td>Product Manager</td>\n",
       "      <td>4331</td>\n",
       "      <td>Sri Lanka</td>\n",
       "      <td>2511188235</td>\n",
       "    </tr>\n",
       "    <tr>\n",
       "      <th>1</th>\n",
       "      <td>2</td>\n",
       "      <td>New Orleans Cajun Delights</td>\n",
       "      <td>Mina Dixon</td>\n",
       "      <td>Marketing Representative</td>\n",
       "      <td>7519U</td>\n",
       "      <td>Dominican Republic</td>\n",
       "      <td>5611256723</td>\n",
       "    </tr>\n",
       "    <tr>\n",
       "      <th>2</th>\n",
       "      <td>3</td>\n",
       "      <td>Grandma Kelly's Homestead</td>\n",
       "      <td>Vishnu Dixon</td>\n",
       "      <td>Export Administrator</td>\n",
       "      <td>1A921</td>\n",
       "      <td>Sweden</td>\n",
       "      <td>8698859257</td>\n",
       "    </tr>\n",
       "    <tr>\n",
       "      <th>3</th>\n",
       "      <td>4</td>\n",
       "      <td>Tokyo Traders</td>\n",
       "      <td>Eric Dixon</td>\n",
       "      <td>Coordinator Foreign Markets</td>\n",
       "      <td>0348</td>\n",
       "      <td>Estonia</td>\n",
       "      <td>1550304108</td>\n",
       "    </tr>\n",
       "    <tr>\n",
       "      <th>4</th>\n",
       "      <td>5</td>\n",
       "      <td>Cooperativa de Quesos 'Las Cabras'</td>\n",
       "      <td>Harry Dixon</td>\n",
       "      <td>Marketing Representative</td>\n",
       "      <td>BY68T</td>\n",
       "      <td>Philippines</td>\n",
       "      <td>8655130479</td>\n",
       "    </tr>\n",
       "  </tbody>\n",
       "</table>\n",
       "</div>"
      ],
      "text/plain": [
       "   id                        company_name          contact_name  \\\n",
       "0   1                      Exotic Liquids  Richard Dixon (Dick)   \n",
       "1   2          New Orleans Cajun Delights            Mina Dixon   \n",
       "2   3           Grandma Kelly's Homestead          Vishnu Dixon   \n",
       "3   4                       Tokyo Traders            Eric Dixon   \n",
       "4   5  Cooperativa de Quesos 'Las Cabras'           Harry Dixon   \n",
       "\n",
       "                 contact_title postal_code             country     contact  \n",
       "0              Product Manager        4331           Sri Lanka  2511188235  \n",
       "1     Marketing Representative       7519U  Dominican Republic  5611256723  \n",
       "2         Export Administrator       1A921              Sweden  8698859257  \n",
       "3  Coordinator Foreign Markets        0348             Estonia  1550304108  \n",
       "4     Marketing Representative       BY68T         Philippines  8655130479  "
      ]
     },
     "execution_count": 265,
     "metadata": {},
     "output_type": "execute_result"
    }
   ],
   "source": [
    "supplier.head()"
   ]
  },
  {
   "cell_type": "code",
   "execution_count": 266,
   "id": "c749fb00-ca7f-4921-a372-f39d80514272",
   "metadata": {},
   "outputs": [],
   "source": [
    "# Save\n",
    "supplier.to_csv(\"../Data Files/new_data/new_supplier.csv\", index=False)"
   ]
  },
  {
   "cell_type": "markdown",
   "id": "f79dd871-8851-46f5-968f-2b428113a919",
   "metadata": {},
   "source": [
    "## Products"
   ]
  },
  {
   "cell_type": "code",
   "execution_count": 313,
   "id": "8e8d022a-2c84-4d10-915a-14e623fd3383",
   "metadata": {},
   "outputs": [],
   "source": [
    "products = pd.DataFrame(columns=['id', 'name', 'supplier_id', 'category_id', 'quantity_per_unit', 'unit_price', 'stock', 'discontinued'])"
   ]
  },
  {
   "cell_type": "code",
   "execution_count": 314,
   "id": "9c6c65e3-188a-48f1-9759-dd6c812b965a",
   "metadata": {},
   "outputs": [],
   "source": [
    "dummy_products = pd.read_excel(data_dir + \"dummy_product_name.xlsx\")"
   ]
  },
  {
   "cell_type": "code",
   "execution_count": 315,
   "id": "1069b75d-7b8c-4fc7-a935-4ab1d046d232",
   "metadata": {},
   "outputs": [],
   "source": [
    "cat_desc = pd.read_csv('../Data Files/new_data/categories_description.csv')"
   ]
  },
  {
   "cell_type": "code",
   "execution_count": 316,
   "id": "c2fe9353-a706-4c61-bd85-afcd2f0dc763",
   "metadata": {},
   "outputs": [],
   "source": [
    "# Create name column\n",
    "products['name'] = dummy_products.name"
   ]
  },
  {
   "cell_type": "code",
   "execution_count": 317,
   "id": "fe84ffcf-7c8f-45a4-a43e-b5bc983a558b",
   "metadata": {},
   "outputs": [],
   "source": [
    "# Create id\n",
    "products['id'] = [index for index in range(1, products.shape[0]+1)]"
   ]
  },
  {
   "cell_type": "code",
   "execution_count": 318,
   "id": "90fe6e48-f256-4acc-9cc5-73622aceba04",
   "metadata": {},
   "outputs": [],
   "source": [
    "supp_id = list(supplier['id'].values)\n",
    "cat_id = list(cat_desc['category_id'].values)"
   ]
  },
  {
   "cell_type": "code",
   "execution_count": 319,
   "id": "5425a5fc-6c85-4f2a-b28b-14d450fa9c68",
   "metadata": {},
   "outputs": [],
   "source": [
    "supplier_id_random = list()\n",
    "cat_id_random = list()\n",
    "qpu = list()\n",
    "up = list()\n",
    "stck_list = list()\n",
    "discontinued = list()"
   ]
  },
  {
   "cell_type": "code",
   "execution_count": 320,
   "id": "b36d34e2-d043-49f0-a1b0-7bfc06addfa5",
   "metadata": {},
   "outputs": [],
   "source": [
    "# Randomly assign remainging column values\n",
    "\n",
    "for index in range(products.shape[0]):\n",
    "    supplier_id_random.append(random.choice(supp_id))\n",
    "    cat_id_random.append(random.choice(cat_id))\n",
    "    \n",
    "    qpu.append(np.random.randint(1,80))\n",
    "    up.append(np.random.randint(5,200))\n",
    "    stck_list.append(np.random.randint(0,200))\n",
    "    \n",
    "    if index % 100 == 0:\n",
    "        discontinued.append(True)\n",
    "    else:\n",
    "        discontinued.append(False)"
   ]
  },
  {
   "cell_type": "code",
   "execution_count": 321,
   "id": "6948ff66-3823-4b09-a286-5ab90f6a8e3a",
   "metadata": {},
   "outputs": [],
   "source": [
    "products['supplier_id'] = supplier_id_random\n",
    "products['category_id'] = cat_id_random\n",
    "products['quantity_per_unit'] = qpu\n",
    "products['unit_price'] = up\n",
    "products['stock'] = stck_list\n",
    "products['discontinued'] = discontinued"
   ]
  },
  {
   "cell_type": "code",
   "execution_count": 322,
   "id": "a291bbf0-6161-4ff7-95a1-869474a16aa6",
   "metadata": {},
   "outputs": [
    {
     "data": {
      "text/html": [
       "<div>\n",
       "<style scoped>\n",
       "    .dataframe tbody tr th:only-of-type {\n",
       "        vertical-align: middle;\n",
       "    }\n",
       "\n",
       "    .dataframe tbody tr th {\n",
       "        vertical-align: top;\n",
       "    }\n",
       "\n",
       "    .dataframe thead th {\n",
       "        text-align: right;\n",
       "    }\n",
       "</style>\n",
       "<table border=\"1\" class=\"dataframe\">\n",
       "  <thead>\n",
       "    <tr style=\"text-align: right;\">\n",
       "      <th></th>\n",
       "      <th>id</th>\n",
       "      <th>name</th>\n",
       "      <th>supplier_id</th>\n",
       "      <th>category_id</th>\n",
       "      <th>quantity_per_unit</th>\n",
       "      <th>unit_price</th>\n",
       "      <th>stock</th>\n",
       "      <th>discontinued</th>\n",
       "    </tr>\n",
       "  </thead>\n",
       "  <tbody>\n",
       "    <tr>\n",
       "      <th>0</th>\n",
       "      <td>1</td>\n",
       "      <td>HUMMUS, SABRA CLASSIC</td>\n",
       "      <td>21</td>\n",
       "      <td>11</td>\n",
       "      <td>78</td>\n",
       "      <td>60</td>\n",
       "      <td>135</td>\n",
       "      <td>True</td>\n",
       "    </tr>\n",
       "    <tr>\n",
       "      <th>1</th>\n",
       "      <td>2</td>\n",
       "      <td>Hummus</td>\n",
       "      <td>48</td>\n",
       "      <td>10</td>\n",
       "      <td>77</td>\n",
       "      <td>29</td>\n",
       "      <td>198</td>\n",
       "      <td>False</td>\n",
       "    </tr>\n",
       "    <tr>\n",
       "      <th>2</th>\n",
       "      <td>3</td>\n",
       "      <td>HUMMUS, OTHER</td>\n",
       "      <td>54</td>\n",
       "      <td>5</td>\n",
       "      <td>77</td>\n",
       "      <td>139</td>\n",
       "      <td>56</td>\n",
       "      <td>False</td>\n",
       "    </tr>\n",
       "    <tr>\n",
       "      <th>3</th>\n",
       "      <td>4</td>\n",
       "      <td>Hummus - NFY12140O</td>\n",
       "      <td>59</td>\n",
       "      <td>9</td>\n",
       "      <td>57</td>\n",
       "      <td>115</td>\n",
       "      <td>37</td>\n",
       "      <td>False</td>\n",
       "    </tr>\n",
       "    <tr>\n",
       "      <th>4</th>\n",
       "      <td>5</td>\n",
       "      <td>Hummus - NFY12140P</td>\n",
       "      <td>50</td>\n",
       "      <td>5</td>\n",
       "      <td>79</td>\n",
       "      <td>24</td>\n",
       "      <td>109</td>\n",
       "      <td>False</td>\n",
       "    </tr>\n",
       "  </tbody>\n",
       "</table>\n",
       "</div>"
      ],
      "text/plain": [
       "   id                   name  supplier_id  category_id  quantity_per_unit  \\\n",
       "0   1  HUMMUS, SABRA CLASSIC           21           11                 78   \n",
       "1   2                 Hummus           48           10                 77   \n",
       "2   3          HUMMUS, OTHER           54            5                 77   \n",
       "3   4     Hummus - NFY12140O           59            9                 57   \n",
       "4   5     Hummus - NFY12140P           50            5                 79   \n",
       "\n",
       "   unit_price  stock  discontinued  \n",
       "0          60    135          True  \n",
       "1          29    198         False  \n",
       "2         139     56         False  \n",
       "3         115     37         False  \n",
       "4          24    109         False  "
      ]
     },
     "execution_count": 322,
     "metadata": {},
     "output_type": "execute_result"
    }
   ],
   "source": [
    "products.head()"
   ]
  },
  {
   "cell_type": "code",
   "execution_count": 324,
   "id": "b1efdb5a-c758-477d-9b52-ac4ae6e56327",
   "metadata": {},
   "outputs": [
    {
     "data": {
      "text/plain": [
       "id                   0\n",
       "name                 0\n",
       "supplier_id          0\n",
       "category_id          0\n",
       "quantity_per_unit    0\n",
       "unit_price           0\n",
       "stock                0\n",
       "discontinued         0\n",
       "dtype: int64"
      ]
     },
     "execution_count": 324,
     "metadata": {},
     "output_type": "execute_result"
    }
   ],
   "source": [
    "products.isnull().sum()"
   ]
  },
  {
   "cell_type": "code",
   "execution_count": 325,
   "id": "3d55c83e-dddb-4449-8a72-08dac2ec6694",
   "metadata": {},
   "outputs": [],
   "source": [
    "# Save\n",
    "products.to_csv(\"../Data Files/new_data/new_products.csv\", index=False)"
   ]
  },
  {
   "cell_type": "markdown",
   "id": "211a4146-6bf3-47fd-a905-68daaf61e52f",
   "metadata": {},
   "source": [
    "## Order"
   ]
  },
  {
   "cell_type": "code",
   "execution_count": 364,
   "id": "afb0873d-ecf9-46e9-838c-bdb61c387f8a",
   "metadata": {},
   "outputs": [],
   "source": [
    "order = pd.DataFrame(columns=['id', 'customer_id', 'employee_id', 'order_date', 'delivery_date', 'shipped_date', 'shipper_id', 'weight', 'ship_name', 'ship_postal_code', 'ship_country'])"
   ]
  },
  {
   "cell_type": "code",
   "execution_count": 352,
   "id": "227f6739-08c0-4596-b604-8e470a2002b6",
   "metadata": {},
   "outputs": [],
   "source": [
    "order_postal = pd.read_csv(\"../Data Files/new_data/new_postal_address_lookup.csv\")\n",
    "shipper = pd.read_csv(\"../Data Files/new_data/shippers.csv\")\n",
    "og_order = pd.read_csv(\"../Data Files/orders.csv\")"
   ]
  },
  {
   "cell_type": "code",
   "execution_count": 365,
   "id": "fbb6c042-cd5d-410e-94f0-1a0b3a35c011",
   "metadata": {},
   "outputs": [],
   "source": [
    "postal_code = list(order_postal.postal_code.values)\n",
    "country = list(order_postal.country.values)\n",
    "emp_id = list(employee.id.values)\n",
    "ship_id = list(shipper.id.values)\n",
    "cust_id = list(new_customers.id.values)\n",
    "ship_name = list(og_order.ship_name.values)"
   ]
  },
  {
   "cell_type": "code",
   "execution_count": 366,
   "id": "0d965b7f-af3f-44c7-add6-3001109093b1",
   "metadata": {},
   "outputs": [],
   "source": [
    "for index in range(1,10000+1):\n",
    "    cID = random.choice(cust_id)\n",
    "    eID = random.choice(emp_id)\n",
    "\n",
    "    random_number_of_days = random.randrange(days_between_dates)\n",
    "    oDATE = start_date + timedelta(days=random_number_of_days)\n",
    "    \n",
    "    random_days_ship = np.random.randint(2,30)\n",
    "    sDATE = oDATE + relativedelta(days=random_days_ship)\n",
    "    \n",
    "    if index%100 == 0:\n",
    "        random_days_dev = np.random.randint(1,2)\n",
    "        dDATE = sDATE + relativedelta(days=-random_days_dev)\n",
    "    else:\n",
    "        random_days_dev = np.random.randint(1,5)\n",
    "        dDATE = sDATE + relativedelta(days=random_days_dev)\n",
    "    \n",
    "    sID = random.choice(ship_id)\n",
    "    \n",
    "    weight = np.random.random() * np.random.randint(100, 150)\n",
    "    sNAME = random.choice(ship_name)\n",
    "    \n",
    "    row = order_postal.sample()\n",
    "    sPOSTAL = row.postal_code.values[0]\n",
    "    country_name = row.country.values[0]\n",
    "    # order_postal.sample().postal_code.values[0]\n",
    "    # sPOSTAL = random.choice((postal_code, country))\n",
    "    # idx = postal_code.index(sPOSTAL)\n",
    "    # country_name = country[index]\n",
    "\n",
    "    series = pd.Series([index, cID, eID, oDATE, dDATE, sDATE, sID, weight, sNAME, sPOSTAL, country_name], index=order.columns)\n",
    "    order = order.append(series, ignore_index=True)"
   ]
  },
  {
   "cell_type": "code",
   "execution_count": 368,
   "id": "b1f78fbc-2b31-46a0-a49c-c8a2f590fdfa",
   "metadata": {},
   "outputs": [
    {
     "data": {
      "text/html": [
       "<div>\n",
       "<style scoped>\n",
       "    .dataframe tbody tr th:only-of-type {\n",
       "        vertical-align: middle;\n",
       "    }\n",
       "\n",
       "    .dataframe tbody tr th {\n",
       "        vertical-align: top;\n",
       "    }\n",
       "\n",
       "    .dataframe thead th {\n",
       "        text-align: right;\n",
       "    }\n",
       "</style>\n",
       "<table border=\"1\" class=\"dataframe\">\n",
       "  <thead>\n",
       "    <tr style=\"text-align: right;\">\n",
       "      <th></th>\n",
       "      <th>id</th>\n",
       "      <th>customer_id</th>\n",
       "      <th>employee_id</th>\n",
       "      <th>order_date</th>\n",
       "      <th>delivery_date</th>\n",
       "      <th>shipped_date</th>\n",
       "      <th>shipper_id</th>\n",
       "      <th>weight</th>\n",
       "      <th>ship_name</th>\n",
       "      <th>ship_postal_code</th>\n",
       "      <th>ship_country</th>\n",
       "    </tr>\n",
       "  </thead>\n",
       "  <tbody>\n",
       "    <tr>\n",
       "      <th>0</th>\n",
       "      <td>1</td>\n",
       "      <td>VRXDN</td>\n",
       "      <td>17</td>\n",
       "      <td>1951-03-04</td>\n",
       "      <td>1951-03-25</td>\n",
       "      <td>1951-03-24</td>\n",
       "      <td>6</td>\n",
       "      <td>41.854798</td>\n",
       "      <td>White Clover Markets</td>\n",
       "      <td>G9Q1P</td>\n",
       "      <td>Russia</td>\n",
       "    </tr>\n",
       "    <tr>\n",
       "      <th>1</th>\n",
       "      <td>2</td>\n",
       "      <td>UBEEV</td>\n",
       "      <td>43</td>\n",
       "      <td>1956-05-07</td>\n",
       "      <td>1956-06-06</td>\n",
       "      <td>1956-06-02</td>\n",
       "      <td>5</td>\n",
       "      <td>117.557225</td>\n",
       "      <td>Piccolo und mehr</td>\n",
       "      <td>M491P</td>\n",
       "      <td>United Kingdom</td>\n",
       "    </tr>\n",
       "    <tr>\n",
       "      <th>2</th>\n",
       "      <td>3</td>\n",
       "      <td>WILMK</td>\n",
       "      <td>131</td>\n",
       "      <td>1996-10-30</td>\n",
       "      <td>1996-11-10</td>\n",
       "      <td>1996-11-08</td>\n",
       "      <td>6</td>\n",
       "      <td>54.940937</td>\n",
       "      <td>Océano Atlántico Ltda.</td>\n",
       "      <td>C1PC141U</td>\n",
       "      <td>United Arab Emirates</td>\n",
       "    </tr>\n",
       "    <tr>\n",
       "      <th>3</th>\n",
       "      <td>4</td>\n",
       "      <td>PHZIR</td>\n",
       "      <td>120</td>\n",
       "      <td>1971-03-18</td>\n",
       "      <td>1971-04-14</td>\n",
       "      <td>1971-04-10</td>\n",
       "      <td>3</td>\n",
       "      <td>89.410684</td>\n",
       "      <td>Save-a-lot Markets</td>\n",
       "      <td>8H13P</td>\n",
       "      <td>Romania</td>\n",
       "    </tr>\n",
       "    <tr>\n",
       "      <th>4</th>\n",
       "      <td>5</td>\n",
       "      <td>USJMB</td>\n",
       "      <td>106</td>\n",
       "      <td>1964-11-02</td>\n",
       "      <td>1964-11-29</td>\n",
       "      <td>1964-11-26</td>\n",
       "      <td>6</td>\n",
       "      <td>10.998022</td>\n",
       "      <td>Hanari Carnes</td>\n",
       "      <td>30JV62KB</td>\n",
       "      <td>Chile</td>\n",
       "    </tr>\n",
       "  </tbody>\n",
       "</table>\n",
       "</div>"
      ],
      "text/plain": [
       "  id customer_id employee_id  order_date delivery_date shipped_date  \\\n",
       "0  1       VRXDN          17  1951-03-04    1951-03-25   1951-03-24   \n",
       "1  2       UBEEV          43  1956-05-07    1956-06-06   1956-06-02   \n",
       "2  3       WILMK         131  1996-10-30    1996-11-10   1996-11-08   \n",
       "3  4       PHZIR         120  1971-03-18    1971-04-14   1971-04-10   \n",
       "4  5       USJMB         106  1964-11-02    1964-11-29   1964-11-26   \n",
       "\n",
       "  shipper_id      weight               ship_name ship_postal_code  \\\n",
       "0          6   41.854798    White Clover Markets            G9Q1P   \n",
       "1          5  117.557225        Piccolo und mehr            M491P   \n",
       "2          6   54.940937  Océano Atlántico Ltda.         C1PC141U   \n",
       "3          3   89.410684      Save-a-lot Markets            8H13P   \n",
       "4          6   10.998022           Hanari Carnes         30JV62KB   \n",
       "\n",
       "           ship_country  \n",
       "0                Russia  \n",
       "1        United Kingdom  \n",
       "2  United Arab Emirates  \n",
       "3               Romania  \n",
       "4                 Chile  "
      ]
     },
     "execution_count": 368,
     "metadata": {},
     "output_type": "execute_result"
    }
   ],
   "source": [
    "order.head()"
   ]
  },
  {
   "cell_type": "code",
   "execution_count": 369,
   "id": "b23267ef-ec6d-42d1-b396-5f004b107d6e",
   "metadata": {},
   "outputs": [],
   "source": [
    "# Save\n",
    "order.to_csv(\"../Data Files/new_data/new_order.csv\", index=False)"
   ]
  },
  {
   "cell_type": "markdown",
   "id": "01a57300-7e60-40f8-b3cc-229874b096b2",
   "metadata": {},
   "source": [
    "## Order details"
   ]
  },
  {
   "cell_type": "code",
   "execution_count": 371,
   "id": "ed9bcadc-41f0-4186-a0ca-44641aaf54d8",
   "metadata": {},
   "outputs": [],
   "source": [
    "order_details = pd.DataFrame(columns=['order_id', 'product_id', 'unit_price', 'quantity', 'discount'])"
   ]
  },
  {
   "cell_type": "code",
   "execution_count": 370,
   "id": "192117da-5b8d-4c11-b1b6-b143098926c1",
   "metadata": {},
   "outputs": [],
   "source": [
    "order_IDS = list(order.id.values)\n",
    "products_IDS = list(products.id.values)"
   ]
  },
  {
   "cell_type": "code",
   "execution_count": 377,
   "id": "0a02b472-ab81-4f89-a085-9eaba6cfe675",
   "metadata": {},
   "outputs": [],
   "source": [
    "for index, order_id_value in enumerate(order_IDS):\n",
    "    for i in range(np.random.randint(1,5)):\n",
    "        prod_id = random.choice(products_IDS)\n",
    "        up = np.random.randint(5,200)\n",
    "        quanti = np.random.randint(5, 100)\n",
    "        \n",
    "        if (index+i)%250 == 0:\n",
    "            dis = round(np.random.uniform(0,0.5), 2)\n",
    "        else:\n",
    "            dis = 0\n",
    "        series = pd.Series([order_id_value, prod_id, up, quanti, dis], index=order_details.columns)\n",
    "        order_details = order_details.append(series, ignore_index=True)"
   ]
  },
  {
   "cell_type": "code",
   "execution_count": 379,
   "id": "9172c209-55d7-4021-8d01-e669d1bee6ec",
   "metadata": {},
   "outputs": [
    {
     "data": {
      "text/html": [
       "<div>\n",
       "<style scoped>\n",
       "    .dataframe tbody tr th:only-of-type {\n",
       "        vertical-align: middle;\n",
       "    }\n",
       "\n",
       "    .dataframe tbody tr th {\n",
       "        vertical-align: top;\n",
       "    }\n",
       "\n",
       "    .dataframe thead th {\n",
       "        text-align: right;\n",
       "    }\n",
       "</style>\n",
       "<table border=\"1\" class=\"dataframe\">\n",
       "  <thead>\n",
       "    <tr style=\"text-align: right;\">\n",
       "      <th></th>\n",
       "      <th>order_id</th>\n",
       "      <th>product_id</th>\n",
       "      <th>unit_price</th>\n",
       "      <th>quantity</th>\n",
       "      <th>discount</th>\n",
       "    </tr>\n",
       "  </thead>\n",
       "  <tbody>\n",
       "    <tr>\n",
       "      <th>0</th>\n",
       "      <td>1.0</td>\n",
       "      <td>8994.0</td>\n",
       "      <td>134.0</td>\n",
       "      <td>57.0</td>\n",
       "      <td>0.19</td>\n",
       "    </tr>\n",
       "    <tr>\n",
       "      <th>1</th>\n",
       "      <td>2.0</td>\n",
       "      <td>5851.0</td>\n",
       "      <td>46.0</td>\n",
       "      <td>87.0</td>\n",
       "      <td>0.00</td>\n",
       "    </tr>\n",
       "    <tr>\n",
       "      <th>2</th>\n",
       "      <td>3.0</td>\n",
       "      <td>10312.0</td>\n",
       "      <td>156.0</td>\n",
       "      <td>15.0</td>\n",
       "      <td>0.00</td>\n",
       "    </tr>\n",
       "    <tr>\n",
       "      <th>3</th>\n",
       "      <td>3.0</td>\n",
       "      <td>5309.0</td>\n",
       "      <td>16.0</td>\n",
       "      <td>28.0</td>\n",
       "      <td>0.00</td>\n",
       "    </tr>\n",
       "    <tr>\n",
       "      <th>4</th>\n",
       "      <td>4.0</td>\n",
       "      <td>4133.0</td>\n",
       "      <td>143.0</td>\n",
       "      <td>71.0</td>\n",
       "      <td>0.00</td>\n",
       "    </tr>\n",
       "  </tbody>\n",
       "</table>\n",
       "</div>"
      ],
      "text/plain": [
       "   order_id  product_id  unit_price  quantity  discount\n",
       "0       1.0      8994.0       134.0      57.0      0.19\n",
       "1       2.0      5851.0        46.0      87.0      0.00\n",
       "2       3.0     10312.0       156.0      15.0      0.00\n",
       "3       3.0      5309.0        16.0      28.0      0.00\n",
       "4       4.0      4133.0       143.0      71.0      0.00"
      ]
     },
     "execution_count": 379,
     "metadata": {},
     "output_type": "execute_result"
    }
   ],
   "source": [
    "order_details.head()"
   ]
  },
  {
   "cell_type": "code",
   "execution_count": 380,
   "id": "2a0a1c4a-6365-41a2-b6fa-7514fd72c9ea",
   "metadata": {},
   "outputs": [],
   "source": [
    "# Save\n",
    "order_details.to_csv(\"../Data Files/new_data/new_order_details.csv\", index=False)"
   ]
  },
  {
   "cell_type": "code",
   "execution_count": 378,
   "id": "05db14db-0396-4e2a-9329-4d72efc3a838",
   "metadata": {},
   "outputs": [
    {
     "data": {
      "text/plain": [
       "(25083, 5)"
      ]
     },
     "execution_count": 378,
     "metadata": {},
     "output_type": "execute_result"
    }
   ],
   "source": [
    "order_details.shape"
   ]
  },
  {
   "cell_type": "markdown",
   "id": "781964f4-5e78-4cac-a60f-886da363c450",
   "metadata": {},
   "source": [
    "## Postal code"
   ]
  },
  {
   "cell_type": "code",
   "execution_count": 381,
   "id": "96a23526-1539-44ca-8180-ad4fdce2d6d6",
   "metadata": {},
   "outputs": [],
   "source": [
    "from glob import glob"
   ]
  },
  {
   "cell_type": "code",
   "execution_count": 410,
   "id": "24d21e5f-fda2-4b91-98d9-247212466c7a",
   "metadata": {},
   "outputs": [],
   "source": [
    "of_post_code = pd.read_csv('../Data Files/new_data/post_address_lookup_old.csv', dtype='object')"
   ]
  },
  {
   "cell_type": "code",
   "execution_count": 413,
   "id": "bb934d37-578f-4b9d-9a49-eceb6cd03fea",
   "metadata": {},
   "outputs": [
    {
     "data": {
      "text/html": [
       "<div>\n",
       "<style scoped>\n",
       "    .dataframe tbody tr th:only-of-type {\n",
       "        vertical-align: middle;\n",
       "    }\n",
       "\n",
       "    .dataframe tbody tr th {\n",
       "        vertical-align: top;\n",
       "    }\n",
       "\n",
       "    .dataframe thead th {\n",
       "        text-align: right;\n",
       "    }\n",
       "</style>\n",
       "<table border=\"1\" class=\"dataframe\">\n",
       "  <thead>\n",
       "    <tr style=\"text-align: right;\">\n",
       "      <th></th>\n",
       "      <th>postal_code</th>\n",
       "      <th>country</th>\n",
       "      <th>city</th>\n",
       "    </tr>\n",
       "  </thead>\n",
       "  <tbody>\n",
       "    <tr>\n",
       "      <th>0</th>\n",
       "      <td>4331</td>\n",
       "      <td>Sri Lanka</td>\n",
       "      <td>Tokyo</td>\n",
       "    </tr>\n",
       "    <tr>\n",
       "      <th>1</th>\n",
       "      <td>7519U</td>\n",
       "      <td>Dominican Republic</td>\n",
       "      <td>Delhi</td>\n",
       "    </tr>\n",
       "    <tr>\n",
       "      <th>2</th>\n",
       "      <td>1A921</td>\n",
       "      <td>Sweden</td>\n",
       "      <td>Shanghai</td>\n",
       "    </tr>\n",
       "    <tr>\n",
       "      <th>3</th>\n",
       "      <td>348</td>\n",
       "      <td>Estonia</td>\n",
       "      <td>Dhaka</td>\n",
       "    </tr>\n",
       "    <tr>\n",
       "      <th>4</th>\n",
       "      <td>BY68T</td>\n",
       "      <td>Philippines</td>\n",
       "      <td>Sao Paulo</td>\n",
       "    </tr>\n",
       "    <tr>\n",
       "      <th>...</th>\n",
       "      <td>...</td>\n",
       "      <td>...</td>\n",
       "      <td>...</td>\n",
       "    </tr>\n",
       "    <tr>\n",
       "      <th>768</th>\n",
       "      <td>VW377W5</td>\n",
       "      <td>Croatia</td>\n",
       "      <td>Sheffield</td>\n",
       "    </tr>\n",
       "    <tr>\n",
       "      <th>769</th>\n",
       "      <td>6A906H</td>\n",
       "      <td>Croatia</td>\n",
       "      <td>Kumamoto</td>\n",
       "    </tr>\n",
       "    <tr>\n",
       "      <th>770</th>\n",
       "      <td>55J0R1A</td>\n",
       "      <td>Argentina</td>\n",
       "      <td>Yan'an</td>\n",
       "    </tr>\n",
       "    <tr>\n",
       "      <th>771</th>\n",
       "      <td>028O7</td>\n",
       "      <td>Korea, South</td>\n",
       "      <td>Maturin</td>\n",
       "    </tr>\n",
       "    <tr>\n",
       "      <th>772</th>\n",
       "      <td>32RBCGET</td>\n",
       "      <td>South Africa</td>\n",
       "      <td>Tongliao</td>\n",
       "    </tr>\n",
       "  </tbody>\n",
       "</table>\n",
       "<p>773 rows × 3 columns</p>\n",
       "</div>"
      ],
      "text/plain": [
       "    postal_code             country       city\n",
       "0          4331           Sri Lanka      Tokyo\n",
       "1         7519U  Dominican Republic      Delhi\n",
       "2         1A921              Sweden   Shanghai\n",
       "3           348             Estonia      Dhaka\n",
       "4         BY68T         Philippines  Sao Paulo\n",
       "..          ...                 ...        ...\n",
       "768     VW377W5             Croatia  Sheffield\n",
       "769      6A906H             Croatia   Kumamoto\n",
       "770     55J0R1A           Argentina     Yan'an\n",
       "771       028O7        Korea, South    Maturin\n",
       "772    32RBCGET        South Africa   Tongliao\n",
       "\n",
       "[773 rows x 3 columns]"
      ]
     },
     "execution_count": 413,
     "metadata": {},
     "output_type": "execute_result"
    }
   ],
   "source": [
    "of_post_code"
   ]
  },
  {
   "cell_type": "code",
   "execution_count": 415,
   "id": "334440f4-0b6e-4a18-9a5f-bf217d1afc7c",
   "metadata": {},
   "outputs": [
    {
     "name": "stdout",
     "output_type": "stream",
     "text": [
      "../Data Files/new_data/customers.csv\n",
      "../Data Files/new_data/categories.csv\n",
      "../Data Files/new_data/products.csv\n",
      "../Data Files/new_data/employee_territories.csv\n",
      "../Data Files/new_data/post_address_lookup_old.csv\n",
      "../Data Files/new_data/orders.csv\n",
      "../Data Files/new_data/supplier.csv\n",
      "../Data Files/new_data/categories_description.csv\n",
      "../Data Files/new_data/shippers.csv\n",
      "../Data Files/new_data/territories.csv\n",
      "../Data Files/new_data/employees.csv\n",
      "../Data Files/new_data/post_address_lookup.csv\n",
      "../Data Files/new_data/order_details.csv\n"
     ]
    }
   ],
   "source": [
    "post_code = pd.DataFrame(columns=['postal_code', 'country'])\n",
    "for filepath in glob('../Data Files/new_data/*.csv'):\n",
    "    print(filepath)\n",
    "    if filepath.split('/')[-1].split('.')[0] in ['supplier','employees', 'customers']:\n",
    "        temp = pd.read_csv(filepath, dtype='object')\n",
    "        post_code = post_code.append(temp[['postal_code', 'country']], ignore_index=True) \n",
    "    elif filepath.split('/')[-1].split('.')[0] in ['orders']:\n",
    "        temp = pd.read_csv(filepath, dtype='object')\n",
    "        post_code = post_code.append(temp[['ship_postal_code', 'ship_country']].rename(columns={'ship_postal_code': 'postal_code', 'ship_country': 'country'}), ignore_index=True) "
   ]
  },
  {
   "cell_type": "code",
   "execution_count": 416,
   "id": "e2ae9131-8dac-4f9f-a392-6bfc2fc5b20e",
   "metadata": {},
   "outputs": [],
   "source": [
    "post_code.drop_duplicates(inplace=True)\n",
    "post_code.reset_index(drop=True, inplace=True)"
   ]
  },
  {
   "cell_type": "code",
   "execution_count": 417,
   "id": "9d28db93-05f1-48b3-aee3-b944e05e3afb",
   "metadata": {},
   "outputs": [],
   "source": [
    "post_code['city'] = of_post_code['city']"
   ]
  },
  {
   "cell_type": "code",
   "execution_count": 425,
   "id": "c3a7acb5-e694-44d6-ab69-3ec39338bb55",
   "metadata": {},
   "outputs": [],
   "source": [
    "post_code.to_csv('../Data Files/new_data/post_address_lookup.csv', index=False)"
   ]
  },
  {
   "cell_type": "code",
   "execution_count": 422,
   "id": "0e9560be-a0af-4ace-b55b-6295bae5c8ec",
   "metadata": {},
   "outputs": [],
   "source": [
    "post_code.loc[post_code.postal_code == '0348', 'city'] = 'Mumbai'"
   ]
  },
  {
   "cell_type": "code",
   "execution_count": 424,
   "id": "67fb5e86-ac88-4fbe-8981-945eadbbf3b0",
   "metadata": {},
   "outputs": [
    {
     "data": {
      "text/plain": [
       "0"
      ]
     },
     "execution_count": 424,
     "metadata": {},
     "output_type": "execute_result"
    }
   ],
   "source": [
    "post_code.duplicated().sum()"
   ]
  },
  {
   "cell_type": "code",
   "execution_count": null,
   "id": "ebbb9cd9-d681-42ea-b9ad-3575f7d80862",
   "metadata": {},
   "outputs": [],
   "source": []
  },
  {
   "cell_type": "code",
   "execution_count": null,
   "id": "356dde91-d60a-4763-a433-ac83f815ce43",
   "metadata": {},
   "outputs": [],
   "source": []
  },
  {
   "cell_type": "code",
   "execution_count": null,
   "id": "eec1bac5-1149-46f0-8f67-51f6c28e4e15",
   "metadata": {},
   "outputs": [],
   "source": []
  },
  {
   "cell_type": "code",
   "execution_count": 434,
   "id": "634fa98f-82c1-4cea-92cd-e04f270243b5",
   "metadata": {},
   "outputs": [
    {
     "data": {
      "text/plain": [
       "array(['Sales Representative', 'Sales Manager',\n",
       "       'Inside Sales Coordinator', 'Vice President, Sales'], dtype=object)"
      ]
     },
     "execution_count": 434,
     "metadata": {},
     "output_type": "execute_result"
    }
   ],
   "source": [
    "employee.title.unique()"
   ]
  },
  {
   "cell_type": "code",
   "execution_count": 437,
   "id": "4d2e0840-2c2e-42a8-9a91-91cbba14b44a",
   "metadata": {},
   "outputs": [],
   "source": [
    "sm = ['Sales Manager' for i in range(25)]\n",
    "isc = ['Inside Sales Coordinator' for i in range(10)]\n",
    "sr = ['Sales Representative' for i in range(100)]"
   ]
  },
  {
   "cell_type": "code",
   "execution_count": 438,
   "id": "e5b0ef77-dbdb-4930-aa3e-a1c28f3bff78",
   "metadata": {},
   "outputs": [],
   "source": [
    "title = ['Vice President, Sales'] + sm + isc + sr"
   ]
  },
  {
   "cell_type": "code",
   "execution_count": 440,
   "id": "a503d8e0-89df-4146-b3ea-5459562adf46",
   "metadata": {},
   "outputs": [],
   "source": [
    "employee.title = title"
   ]
  },
  {
   "cell_type": "code",
   "execution_count": 441,
   "id": "4970a553-6265-4944-b402-168fab3f8ca9",
   "metadata": {},
   "outputs": [
    {
     "data": {
      "text/html": [
       "<div>\n",
       "<style scoped>\n",
       "    .dataframe tbody tr th:only-of-type {\n",
       "        vertical-align: middle;\n",
       "    }\n",
       "\n",
       "    .dataframe tbody tr th {\n",
       "        vertical-align: top;\n",
       "    }\n",
       "\n",
       "    .dataframe thead th {\n",
       "        text-align: right;\n",
       "    }\n",
       "</style>\n",
       "<table border=\"1\" class=\"dataframe\">\n",
       "  <thead>\n",
       "    <tr style=\"text-align: right;\">\n",
       "      <th></th>\n",
       "      <th>id</th>\n",
       "      <th>last_name</th>\n",
       "      <th>first_name</th>\n",
       "      <th>title</th>\n",
       "      <th>birthdate</th>\n",
       "      <th>hire_date</th>\n",
       "      <th>postal_code</th>\n",
       "      <th>country</th>\n",
       "      <th>contact</th>\n",
       "      <th>reports_to</th>\n",
       "    </tr>\n",
       "  </thead>\n",
       "  <tbody>\n",
       "    <tr>\n",
       "      <th>0</th>\n",
       "      <td>1</td>\n",
       "      <td>Fitzgerald</td>\n",
       "      <td>Gunnar</td>\n",
       "      <td>Vice President, Sales</td>\n",
       "      <td>1956-08-04</td>\n",
       "      <td>1985-09-18</td>\n",
       "      <td>907R02</td>\n",
       "      <td>Iceland</td>\n",
       "      <td>5514625394</td>\n",
       "      <td>20.0</td>\n",
       "    </tr>\n",
       "    <tr>\n",
       "      <th>1</th>\n",
       "      <td>2</td>\n",
       "      <td>King</td>\n",
       "      <td>Daisy</td>\n",
       "      <td>Sales Manager</td>\n",
       "      <td>1992-06-26</td>\n",
       "      <td>2017-04-22</td>\n",
       "      <td>M5388A</td>\n",
       "      <td>United Arab Emirates</td>\n",
       "      <td>1622590717</td>\n",
       "      <td>63.0</td>\n",
       "    </tr>\n",
       "    <tr>\n",
       "      <th>2</th>\n",
       "      <td>3</td>\n",
       "      <td>Esparza</td>\n",
       "      <td>Lesly</td>\n",
       "      <td>Sales Manager</td>\n",
       "      <td>1954-09-23</td>\n",
       "      <td>1975-01-13</td>\n",
       "      <td>2F365L</td>\n",
       "      <td>Turkey</td>\n",
       "      <td>1758615552</td>\n",
       "      <td>7.0</td>\n",
       "    </tr>\n",
       "    <tr>\n",
       "      <th>3</th>\n",
       "      <td>4</td>\n",
       "      <td>Merritt</td>\n",
       "      <td>Shiloh</td>\n",
       "      <td>Sales Manager</td>\n",
       "      <td>1957-05-11</td>\n",
       "      <td>1984-11-01</td>\n",
       "      <td>27TM3</td>\n",
       "      <td>Argentina</td>\n",
       "      <td>2042725721</td>\n",
       "      <td>7.0</td>\n",
       "    </tr>\n",
       "    <tr>\n",
       "      <th>4</th>\n",
       "      <td>5</td>\n",
       "      <td>Mcmillan</td>\n",
       "      <td>Elian</td>\n",
       "      <td>Sales Manager</td>\n",
       "      <td>1986-12-27</td>\n",
       "      <td>2012-05-26</td>\n",
       "      <td>4586R</td>\n",
       "      <td>Germany</td>\n",
       "      <td>6513191729</td>\n",
       "      <td>7.0</td>\n",
       "    </tr>\n",
       "    <tr>\n",
       "      <th>...</th>\n",
       "      <td>...</td>\n",
       "      <td>...</td>\n",
       "      <td>...</td>\n",
       "      <td>...</td>\n",
       "      <td>...</td>\n",
       "      <td>...</td>\n",
       "      <td>...</td>\n",
       "      <td>...</td>\n",
       "      <td>...</td>\n",
       "      <td>...</td>\n",
       "    </tr>\n",
       "    <tr>\n",
       "      <th>131</th>\n",
       "      <td>132</td>\n",
       "      <td>Keith</td>\n",
       "      <td>Dax</td>\n",
       "      <td>Sales Representative</td>\n",
       "      <td>1972-04-15</td>\n",
       "      <td>1995-10-21</td>\n",
       "      <td>89A7H</td>\n",
       "      <td>Denmark</td>\n",
       "      <td>4412148230</td>\n",
       "      <td>46.0</td>\n",
       "    </tr>\n",
       "    <tr>\n",
       "      <th>132</th>\n",
       "      <td>133</td>\n",
       "      <td>Tucker</td>\n",
       "      <td>Octavio</td>\n",
       "      <td>Sales Representative</td>\n",
       "      <td>1991-07-04</td>\n",
       "      <td>2020-01-15</td>\n",
       "      <td>798AC</td>\n",
       "      <td>Canada</td>\n",
       "      <td>8008406936</td>\n",
       "      <td>27.0</td>\n",
       "    </tr>\n",
       "    <tr>\n",
       "      <th>133</th>\n",
       "      <td>134</td>\n",
       "      <td>Mcclain</td>\n",
       "      <td>Ronald</td>\n",
       "      <td>Sales Representative</td>\n",
       "      <td>1996-09-02</td>\n",
       "      <td>2024-07-30</td>\n",
       "      <td>4U76Q2</td>\n",
       "      <td>Mongolia</td>\n",
       "      <td>2132757860</td>\n",
       "      <td>3.0</td>\n",
       "    </tr>\n",
       "    <tr>\n",
       "      <th>134</th>\n",
       "      <td>135</td>\n",
       "      <td>Farley</td>\n",
       "      <td>Anup</td>\n",
       "      <td>Sales Representative</td>\n",
       "      <td>1973-04-14</td>\n",
       "      <td>2000-03-10</td>\n",
       "      <td>0LI74</td>\n",
       "      <td>Israel</td>\n",
       "      <td>3181916100</td>\n",
       "      <td>19.0</td>\n",
       "    </tr>\n",
       "    <tr>\n",
       "      <th>135</th>\n",
       "      <td>136</td>\n",
       "      <td>Pokemon</td>\n",
       "      <td>Pushkaraj</td>\n",
       "      <td>Sales Representative</td>\n",
       "      <td>1974-06-02</td>\n",
       "      <td>2000-08-26</td>\n",
       "      <td>SW152</td>\n",
       "      <td>Belgium</td>\n",
       "      <td>3470646725</td>\n",
       "      <td>26.0</td>\n",
       "    </tr>\n",
       "  </tbody>\n",
       "</table>\n",
       "<p>136 rows × 10 columns</p>\n",
       "</div>"
      ],
      "text/plain": [
       "      id   last_name first_name                  title   birthdate  \\\n",
       "0      1  Fitzgerald     Gunnar  Vice President, Sales  1956-08-04   \n",
       "1      2        King      Daisy          Sales Manager  1992-06-26   \n",
       "2      3     Esparza      Lesly          Sales Manager  1954-09-23   \n",
       "3      4     Merritt     Shiloh          Sales Manager  1957-05-11   \n",
       "4      5    Mcmillan      Elian          Sales Manager  1986-12-27   \n",
       "..   ...         ...        ...                    ...         ...   \n",
       "131  132       Keith        Dax   Sales Representative  1972-04-15   \n",
       "132  133      Tucker    Octavio   Sales Representative  1991-07-04   \n",
       "133  134     Mcclain     Ronald   Sales Representative  1996-09-02   \n",
       "134  135      Farley       Anup   Sales Representative  1973-04-14   \n",
       "135  136     Pokemon  Pushkaraj   Sales Representative  1974-06-02   \n",
       "\n",
       "      hire_date postal_code               country     contact  reports_to  \n",
       "0    1985-09-18      907R02               Iceland  5514625394        20.0  \n",
       "1    2017-04-22      M5388A  United Arab Emirates  1622590717        63.0  \n",
       "2    1975-01-13      2F365L                Turkey  1758615552         7.0  \n",
       "3    1984-11-01       27TM3             Argentina  2042725721         7.0  \n",
       "4    2012-05-26       4586R               Germany  6513191729         7.0  \n",
       "..          ...         ...                   ...         ...         ...  \n",
       "131  1995-10-21       89A7H               Denmark  4412148230        46.0  \n",
       "132  2020-01-15       798AC                Canada  8008406936        27.0  \n",
       "133  2024-07-30      4U76Q2              Mongolia  2132757860         3.0  \n",
       "134  2000-03-10       0LI74                Israel  3181916100        19.0  \n",
       "135  2000-08-26       SW152               Belgium  3470646725        26.0  \n",
       "\n",
       "[136 rows x 10 columns]"
      ]
     },
     "execution_count": 441,
     "metadata": {},
     "output_type": "execute_result"
    }
   ],
   "source": [
    "employee"
   ]
  },
  {
   "cell_type": "code",
   "execution_count": 442,
   "id": "dd0897d0-5d12-4837-a1d9-99a01385d44b",
   "metadata": {},
   "outputs": [],
   "source": [
    "# SM -> VP, ISC -> VP\n",
    "employee.reports_to = np.where([True if title in ['Sales Manager', 'Inside Sales Coordinator'] else False for title in employee.title], \n",
    "                               employee[employee.title == 'Vice President, Sales'].id.values[0],\n",
    "                               np.nan)"
   ]
  },
  {
   "cell_type": "code",
   "execution_count": 443,
   "id": "faa97c9a-5c40-43c8-aa06-fe06b9bbbab1",
   "metadata": {},
   "outputs": [],
   "source": [
    "sm_id_list = list(employee[employee.title == 'Sales Manager'].id.values) * 4\n",
    "\n",
    "# SR -> SM\n",
    "employee.loc[employee.title == 'Sales Representative', 'reports_to'] = sm_id_list"
   ]
  },
  {
   "cell_type": "code",
   "execution_count": 444,
   "id": "f4b4ecac-91d1-4b15-bf25-2ed4af27e773",
   "metadata": {},
   "outputs": [
    {
     "data": {
      "text/html": [
       "<div>\n",
       "<style scoped>\n",
       "    .dataframe tbody tr th:only-of-type {\n",
       "        vertical-align: middle;\n",
       "    }\n",
       "\n",
       "    .dataframe tbody tr th {\n",
       "        vertical-align: top;\n",
       "    }\n",
       "\n",
       "    .dataframe thead th {\n",
       "        text-align: right;\n",
       "    }\n",
       "</style>\n",
       "<table border=\"1\" class=\"dataframe\">\n",
       "  <thead>\n",
       "    <tr style=\"text-align: right;\">\n",
       "      <th></th>\n",
       "      <th>id</th>\n",
       "      <th>last_name</th>\n",
       "      <th>first_name</th>\n",
       "      <th>title</th>\n",
       "      <th>birthdate</th>\n",
       "      <th>hire_date</th>\n",
       "      <th>postal_code</th>\n",
       "      <th>country</th>\n",
       "      <th>contact</th>\n",
       "      <th>reports_to</th>\n",
       "    </tr>\n",
       "  </thead>\n",
       "  <tbody>\n",
       "    <tr>\n",
       "      <th>0</th>\n",
       "      <td>1</td>\n",
       "      <td>Fitzgerald</td>\n",
       "      <td>Gunnar</td>\n",
       "      <td>Vice President, Sales</td>\n",
       "      <td>1956-08-04</td>\n",
       "      <td>1985-09-18</td>\n",
       "      <td>907R02</td>\n",
       "      <td>Iceland</td>\n",
       "      <td>5514625394</td>\n",
       "      <td>NaN</td>\n",
       "    </tr>\n",
       "    <tr>\n",
       "      <th>1</th>\n",
       "      <td>2</td>\n",
       "      <td>King</td>\n",
       "      <td>Daisy</td>\n",
       "      <td>Sales Manager</td>\n",
       "      <td>1992-06-26</td>\n",
       "      <td>2017-04-22</td>\n",
       "      <td>M5388A</td>\n",
       "      <td>United Arab Emirates</td>\n",
       "      <td>1622590717</td>\n",
       "      <td>1.0</td>\n",
       "    </tr>\n",
       "    <tr>\n",
       "      <th>2</th>\n",
       "      <td>3</td>\n",
       "      <td>Esparza</td>\n",
       "      <td>Lesly</td>\n",
       "      <td>Sales Manager</td>\n",
       "      <td>1954-09-23</td>\n",
       "      <td>1975-01-13</td>\n",
       "      <td>2F365L</td>\n",
       "      <td>Turkey</td>\n",
       "      <td>1758615552</td>\n",
       "      <td>1.0</td>\n",
       "    </tr>\n",
       "    <tr>\n",
       "      <th>3</th>\n",
       "      <td>4</td>\n",
       "      <td>Merritt</td>\n",
       "      <td>Shiloh</td>\n",
       "      <td>Sales Manager</td>\n",
       "      <td>1957-05-11</td>\n",
       "      <td>1984-11-01</td>\n",
       "      <td>27TM3</td>\n",
       "      <td>Argentina</td>\n",
       "      <td>2042725721</td>\n",
       "      <td>1.0</td>\n",
       "    </tr>\n",
       "    <tr>\n",
       "      <th>4</th>\n",
       "      <td>5</td>\n",
       "      <td>Mcmillan</td>\n",
       "      <td>Elian</td>\n",
       "      <td>Sales Manager</td>\n",
       "      <td>1986-12-27</td>\n",
       "      <td>2012-05-26</td>\n",
       "      <td>4586R</td>\n",
       "      <td>Germany</td>\n",
       "      <td>6513191729</td>\n",
       "      <td>1.0</td>\n",
       "    </tr>\n",
       "    <tr>\n",
       "      <th>...</th>\n",
       "      <td>...</td>\n",
       "      <td>...</td>\n",
       "      <td>...</td>\n",
       "      <td>...</td>\n",
       "      <td>...</td>\n",
       "      <td>...</td>\n",
       "      <td>...</td>\n",
       "      <td>...</td>\n",
       "      <td>...</td>\n",
       "      <td>...</td>\n",
       "    </tr>\n",
       "    <tr>\n",
       "      <th>131</th>\n",
       "      <td>132</td>\n",
       "      <td>Keith</td>\n",
       "      <td>Dax</td>\n",
       "      <td>Sales Representative</td>\n",
       "      <td>1972-04-15</td>\n",
       "      <td>1995-10-21</td>\n",
       "      <td>89A7H</td>\n",
       "      <td>Denmark</td>\n",
       "      <td>4412148230</td>\n",
       "      <td>22.0</td>\n",
       "    </tr>\n",
       "    <tr>\n",
       "      <th>132</th>\n",
       "      <td>133</td>\n",
       "      <td>Tucker</td>\n",
       "      <td>Octavio</td>\n",
       "      <td>Sales Representative</td>\n",
       "      <td>1991-07-04</td>\n",
       "      <td>2020-01-15</td>\n",
       "      <td>798AC</td>\n",
       "      <td>Canada</td>\n",
       "      <td>8008406936</td>\n",
       "      <td>23.0</td>\n",
       "    </tr>\n",
       "    <tr>\n",
       "      <th>133</th>\n",
       "      <td>134</td>\n",
       "      <td>Mcclain</td>\n",
       "      <td>Ronald</td>\n",
       "      <td>Sales Representative</td>\n",
       "      <td>1996-09-02</td>\n",
       "      <td>2024-07-30</td>\n",
       "      <td>4U76Q2</td>\n",
       "      <td>Mongolia</td>\n",
       "      <td>2132757860</td>\n",
       "      <td>24.0</td>\n",
       "    </tr>\n",
       "    <tr>\n",
       "      <th>134</th>\n",
       "      <td>135</td>\n",
       "      <td>Farley</td>\n",
       "      <td>Anup</td>\n",
       "      <td>Sales Representative</td>\n",
       "      <td>1973-04-14</td>\n",
       "      <td>2000-03-10</td>\n",
       "      <td>0LI74</td>\n",
       "      <td>Israel</td>\n",
       "      <td>3181916100</td>\n",
       "      <td>25.0</td>\n",
       "    </tr>\n",
       "    <tr>\n",
       "      <th>135</th>\n",
       "      <td>136</td>\n",
       "      <td>Pokemon</td>\n",
       "      <td>Pushkaraj</td>\n",
       "      <td>Sales Representative</td>\n",
       "      <td>1974-06-02</td>\n",
       "      <td>2000-08-26</td>\n",
       "      <td>SW152</td>\n",
       "      <td>Belgium</td>\n",
       "      <td>3470646725</td>\n",
       "      <td>26.0</td>\n",
       "    </tr>\n",
       "  </tbody>\n",
       "</table>\n",
       "<p>136 rows × 10 columns</p>\n",
       "</div>"
      ],
      "text/plain": [
       "      id   last_name first_name                  title   birthdate  \\\n",
       "0      1  Fitzgerald     Gunnar  Vice President, Sales  1956-08-04   \n",
       "1      2        King      Daisy          Sales Manager  1992-06-26   \n",
       "2      3     Esparza      Lesly          Sales Manager  1954-09-23   \n",
       "3      4     Merritt     Shiloh          Sales Manager  1957-05-11   \n",
       "4      5    Mcmillan      Elian          Sales Manager  1986-12-27   \n",
       "..   ...         ...        ...                    ...         ...   \n",
       "131  132       Keith        Dax   Sales Representative  1972-04-15   \n",
       "132  133      Tucker    Octavio   Sales Representative  1991-07-04   \n",
       "133  134     Mcclain     Ronald   Sales Representative  1996-09-02   \n",
       "134  135      Farley       Anup   Sales Representative  1973-04-14   \n",
       "135  136     Pokemon  Pushkaraj   Sales Representative  1974-06-02   \n",
       "\n",
       "      hire_date postal_code               country     contact  reports_to  \n",
       "0    1985-09-18      907R02               Iceland  5514625394         NaN  \n",
       "1    2017-04-22      M5388A  United Arab Emirates  1622590717         1.0  \n",
       "2    1975-01-13      2F365L                Turkey  1758615552         1.0  \n",
       "3    1984-11-01       27TM3             Argentina  2042725721         1.0  \n",
       "4    2012-05-26       4586R               Germany  6513191729         1.0  \n",
       "..          ...         ...                   ...         ...         ...  \n",
       "131  1995-10-21       89A7H               Denmark  4412148230        22.0  \n",
       "132  2020-01-15       798AC                Canada  8008406936        23.0  \n",
       "133  2024-07-30      4U76Q2              Mongolia  2132757860        24.0  \n",
       "134  2000-03-10       0LI74                Israel  3181916100        25.0  \n",
       "135  2000-08-26       SW152               Belgium  3470646725        26.0  \n",
       "\n",
       "[136 rows x 10 columns]"
      ]
     },
     "execution_count": 444,
     "metadata": {},
     "output_type": "execute_result"
    }
   ],
   "source": [
    "employee"
   ]
  },
  {
   "cell_type": "code",
   "execution_count": 445,
   "id": "4b09cb5d-6be6-43d9-938d-136d13d61b90",
   "metadata": {},
   "outputs": [],
   "source": [
    "employee.to_csv(\"../Data Files/new_data/\" + \"employees.csv\", index=False)"
   ]
  },
  {
   "cell_type": "code",
   "execution_count": null,
   "id": "b652d570-a805-4e2f-b2a0-4c310c3835e1",
   "metadata": {},
   "outputs": [],
   "source": []
  }
 ],
 "metadata": {
  "kernelspec": {
   "display_name": "Python 3 (ipykernel)",
   "language": "python",
   "name": "python3"
  },
  "language_info": {
   "codemirror_mode": {
    "name": "ipython",
    "version": 3
   },
   "file_extension": ".py",
   "mimetype": "text/x-python",
   "name": "python",
   "nbconvert_exporter": "python",
   "pygments_lexer": "ipython3",
   "version": "3.9.7"
  }
 },
 "nbformat": 4,
 "nbformat_minor": 5
}
